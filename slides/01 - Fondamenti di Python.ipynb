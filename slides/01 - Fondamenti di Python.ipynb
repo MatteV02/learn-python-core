{
 "cells": [
  {
   "cell_type": "markdown",
   "metadata": {},
   "source": [
    "# 01 - Fondamenti di Python"
   ]
  },
  {
   "cell_type": "markdown",
   "metadata": {},
   "source": [
    "## Un po'di storia\n",
    "\n",
    "* 1989: Python nasce come progetto per hobby\n",
    "* 1991: Python 0.9.0 rilasciato su Internet (alt.sources)\n",
    "* 1994: rilascio di Python 1\n",
    "* 2000: rilascio di Python 2\n",
    "* 2008: rilascio di Python 3 (non più compatibilità con le versioni precedenti)\n",
    "* 2020: rilascio di Python 3.9\n",
    "\n",
    "[Guido van Rossum](http://en.wikipedia.org/wiki/Guido_van_Rossum) (nato il 31 gennaio 1956) è un programmatore olandese meglio conosciuto come il creatore del linguaggio di programmazione Python, per il quale è stato il [dittatore benevolo a vita](http://en.wikipedia.org/wiki/Benevolent_Dictator_for_Life) (BDFL) fino a quando non si è dimesso dalla carica nel luglio 2018. È rimasto membro del Python Steering Council fino al 2019 e si è ritirato dalle candidature per le elezioni del 2020.\n",
    "\n",
    "*Python è un esperimento sulla libertà di cui hanno bisogno i programmatori. Troppa libertà e nessuno può leggere il codice di un altro; troppo poco e l'espressività è in pericolo.* - Guido van Rossum, agosto 1996"
   ]
  },
  {
   "cell_type": "markdown",
   "metadata": {},
   "source": [
    "## Vantaggi e svantaggi\n",
    "\n",
    "Vantaggi\n",
    "\n",
    "* Portatile\n",
    "* Facile da usare\n",
    "* Open source e comunità\n",
    "* Prototipazione veloce\n",
    "* Alto livello (non è necessario gestire l'architettura o la memoria del sistema)\n",
    "* Interpretato\n",
    "* Orientato agli oggetti\n",
    "* Digitazione dinamica (non è necessario dichiarare i tipi di dati)\n",
    "* Ampia libreria standard\n",
    "\n",
    "Svantaggi\n",
    "\n",
    "* Velocità lenta\n",
    "* Non efficiente in termini di memoria\n",
    "* Debole nel mobile computing\n",
    "* Accesso al database (molto più primitivo di JDBC)\n",
    "* Errori di runtime (i linguaggi tipizzati dinamicamente necessitano di ulteriori test)"
   ]
  },
  {
   "cell_type": "markdown",
   "metadata": {},
   "source": [
    "## Lo Zen di Python\n",
    "\n",
    "I programmatori Python esperti ti incoraggeranno a **evitare la complessità** e puntare alla semplicità quando possibile. \n",
    "La filosofia della comunità Python è contenuta in “The Zen of Python” di Tim Peters. Puoi accedere a questo breve insieme di principi per scrivere un buon codice inserendo **import this** nel tuo interprete."
   ]
  },
  {
   "cell_type": "code",
   "execution_count": 1,
   "metadata": {},
   "outputs": [
    {
     "name": "stdout",
     "output_type": "stream",
     "text": [
      "The Zen of Python, by Tim Peters\n",
      "\n",
      "Beautiful is better than ugly.\n",
      "Explicit is better than implicit.\n",
      "Simple is better than complex.\n",
      "Complex is better than complicated.\n",
      "Flat is better than nested.\n",
      "Sparse is better than dense.\n",
      "Readability counts.\n",
      "Special cases aren't special enough to break the rules.\n",
      "Although practicality beats purity.\n",
      "Errors should never pass silently.\n",
      "Unless explicitly silenced.\n",
      "In the face of ambiguity, refuse the temptation to guess.\n",
      "There should be one-- and preferably only one --obvious way to do it.\n",
      "Although that way may not be obvious at first unless you're Dutch.\n",
      "Now is better than never.\n",
      "Although never is often better than *right* now.\n",
      "If the implementation is hard to explain, it's a bad idea.\n",
      "If the implementation is easy to explain, it may be a good idea.\n",
      "Namespaces are one honking great idea -- let's do more of those!\n"
     ]
    }
   ],
   "source": [
    "import this"
   ]
  },
  {
   "cell_type": "markdown",
   "metadata": {},
   "source": [
    "È parecchio lungo. Prendiamo solo alcune righe e vediamo cosa significano per te come nuovo programmatore.\n",
    "\n",
    "    Bello è meglio che brutto.\n",
    "\n",
    "I programmatori Python riconoscono che un buon codice può effettivamente essere bello. Se trovi un modo particolarmente elegante o efficiente per risolvere un problema, soprattutto un problema difficile, altri programmatori Python rispetteranno il tuo lavoro e potrebbero persino definirlo bello. C’è bellezza nel lavoro tecnico di alto livello.\n",
    "\n",
    "    L'esplicito è meglio dell'implicito.\n",
    "\n",
    "È meglio essere chiari su quello che stai facendo, piuttosto che trovare un modo più breve per fare qualcosa che è difficile da capire.\n",
    "\n",
    "    Semplice è meglio che complesso.\n",
    "    Complesso è meglio che complicato.\n",
    "\n",
    "Mantieni il tuo codice semplice quando possibile, ma riconosci che a volte affrontiamo problemi davvero difficili per i quali non esistono soluzioni facili. In questi casi, accetta la complessità ma evita le complicazioni.\n",
    "\n",
    "    La leggibilità conta.\n",
    "\n",
    "Al giorno d'oggi sono pochissimi i programmi interessanti e utili scritti e gestiti interamente da una sola persona. Scrivi il tuo codice in modo che gli altri possano leggerlo il più facilmente possibile e in modo che tu possa leggerlo e comprenderlo tra 6 mesi. Ciò include la scrittura di commenti positivi nel codice.\n",
    "\n",
    "    Dovrebbe esserci un modo ovvio, e preferibilmente solo uno, per farlo.\n",
    "\n",
    "Esistono molti modi per risolvere la maggior parte dei problemi che emergono durante la programmazione. Tuttavia, la maggior parte dei problemi ha un approccio standard e ben consolidato. Risparmia la complessità per quando è necessario e risolvi i problemi nel modo più semplice possibile.\n",
    "\n",
    "    Ora è meglio che mai.\n",
    "\n",
    "Nessuno scrive mai il codice perfetto. Se hai un'idea e vuoi implementarla, scrivi del codice che funzioni. Rilascialo, lascialo usare da altri e poi miglioralo costantemente."
   ]
  },
  {
   "cell_type": "markdown",
   "metadata": {},
   "source": [
    "## Macchina virtuale Python\n",
    "![](images/python_interpreter.png)"
   ]
  },
  {
   "cell_type": "markdown",
   "metadata": {},
   "source": [
    "## Utilizzo di Python\n",
    "* La *shell Python* è un'interfaccia per digitare il codice Python ed eseguirlo direttamente nel terminale del tuo computer. La *shell IPython* è una versione molto più gradevole della shell Python. Fornisce l'evidenziazione della sintassi, il completamento automatico e altre funzionalità.\n",
    "* Un IDE è un sofisticato editor di testo che consente di modificare, eseguire ed eseguire il debug del codice. Noi useremo [Visual Studio Code](https://code.visualstudio.com/).\n",
    "* Gli script Python possono essere eseguiti dalla riga di comando.\n",
    "* Jupyter Notebook è un potente strumento per la prototipazione e la sperimentazione del codice, nonché per la visualizzazione di dati e la scrittura di testo ben formattato. Lo useremo durante tutto il corso.\n",
    "\n",
    "In tutti i casi, a parte Jupyter Notebooks, un programma Python è uno script leggibile pronto per essere eseguito da un interprete come rappresentato di seguito.\n",
    "\n",
    "```python\n",
    "def main():\n",
    "  print('Hello world!')\n",
    "\n",
    "if __name__ == \"__main__\":\n",
    "    main()\n",
    "```\n",
    "\n",
    "Quindi su un terminale (Terminale su Windows, zsh su MacOS o bash su Linux)\n",
    "\n",
    "```bash\n",
    "$ python script.py\n",
    "```"
   ]
  },
  {
   "cell_type": "markdown",
   "metadata": {},
   "source": [
    "## Quale versione di Python sto utilizzando?"
   ]
  },
  {
   "cell_type": "code",
   "execution_count": 2,
   "metadata": {},
   "outputs": [
    {
     "data": {
      "text/plain": [
       "'3.12.3 (main, Aug 14 2025, 17:47:21) [GCC 13.3.0]'"
      ]
     },
     "execution_count": 2,
     "metadata": {},
     "output_type": "execute_result"
    }
   ],
   "source": [
    "import sys\n",
    "sys.version"
   ]
  },
  {
   "cell_type": "markdown",
   "metadata": {},
   "source": [
    "# Concetti di base"
   ]
  },
  {
   "cell_type": "markdown",
   "metadata": {},
   "source": [
    "## Funzione principale\n",
    "\n",
    "Python non è progettato per avviare esplicitamente l'esecuzione del codice da una funzione principale. Una variabile speciale chiamata *\\_\\_name\\_\\_* fornisce la funzionalità della funzione principale."
   ]
  },
  {
   "cell_type": "code",
   "execution_count": 3,
   "metadata": {
    "ExecuteTime": {
     "end_time": "2024-11-19T16:36:00.747535Z",
     "start_time": "2024-11-19T16:36:00.743330Z"
    }
   },
   "outputs": [
    {
     "name": "stdout",
     "output_type": "stream",
     "text": [
      "[1] Ciao mondo!\n"
     ]
    }
   ],
   "source": [
    "print('[1] Ciao mondo!')\n",
    "\n",
    "def main():\n",
    "    print('[2] Ciao mondo!')\n",
    "\n",
    "if __name__ == '__principale__':\n",
    "    main()"
   ]
  },
  {
   "cell_type": "markdown",
   "metadata": {},
   "source": [
    "## Istruzioni su più righe\n",
    "\n",
    "La fine di un'istruzione è contrassegnata da un carattere di nuova riga. \n",
    "Possiamo fare in modo che un'istruzione si estenda su più righe con il carattere di continuazione della riga \\\\. La continuazione della riga è implicita tra parentesi graffe *( )*, parentesi graffe *[ ]* e parentesi graffe *{ }*."
   ]
  },
  {
   "cell_type": "code",
   "execution_count": 4,
   "metadata": {},
   "outputs": [
    {
     "name": "stdout",
     "output_type": "stream",
     "text": [
      "a=45 b=45\n"
     ]
    }
   ],
   "source": [
    "a = 1 + 2 + 3 + \\\n",
    "    4 + 5 + 6 + \\\n",
    "    7 + 8 + 9\n",
    "\n",
    "b = (1 + 2 + 3 +\n",
    "     4 + 5 + 6 +\n",
    "     7 + 8 + 9)\n",
    "\n",
    "print(f'a={a} b={b}')"
   ]
  },
  {
   "cell_type": "markdown",
   "metadata": {},
   "source": [
    "## Rientro\n",
    "\n",
    "Altri linguaggi come C++ utilizzano le parentesi graffe *{ }* per indicare l'inizio e la fine dei blocchi di codice. Python utilizza spazi bianchi (spazi o tabulazioni) per definire il blocco di funzioni. *È obbligatorio utilizzare un numero consistente di spazi (solitamente 4) per i blocchi di codice*."
   ]
  },
  {
   "cell_type": "code",
   "execution_count": 5,
   "metadata": {},
   "outputs": [
    {
     "data": {
      "text/plain": [
       "9"
      ]
     },
     "execution_count": 5,
     "metadata": {},
     "output_type": "execute_result"
    }
   ],
   "source": [
    "def sum(a=0.0, b=0.0):\n",
    "    \"\"\"Sums two numbers.\n",
    "\n",
    "    Keyword arguments:\n",
    "    a -- the first number (default 0.0)\n",
    "    b -- the second number (default 0.0)\n",
    "    \"\"\"\n",
    "    return a + b\n",
    "        \n",
    "sum(4, 5)"
   ]
  },
  {
   "cell_type": "markdown",
   "metadata": {},
   "source": [
    "## Assegnazione variabile"
   ]
  },
  {
   "cell_type": "markdown",
   "metadata": {},
   "source": [
    "Pensa a una variabile come a un nome associato a un particolare oggetto. In Python, le variabili non necessitano di essere dichiarate o definite in anticipo, come avviene in molti altri linguaggi di programmazione. Per creare una variabile, basta assegnarle un valore e quindi iniziare a utilizzarla. L'assegnazione viene eseguita con un singolo segno di uguale (=)."
   ]
  },
  {
   "cell_type": "code",
   "execution_count": 6,
   "metadata": {},
   "outputs": [],
   "source": [
    "# una variabile, un valore\n",
    "v = 'apple.com'\n",
    "\n",
    "# stessa variabile, un nuovo valore (tipizzazione dinamica)\n",
    "v = 1\n",
    "\n",
    "# più variabili, un valore\n",
    "x = y = z = 'stesso valore'\n",
    "\n",
    "# più variabili, più valori\n",
    "x, y, z = 5, 3.2, 'Ciao'"
   ]
  },
  {
   "cell_type": "markdown",
   "metadata": {},
   "source": [
    "## Costanti\n",
    "Le costanti sono scritte in maiuscolo con trattini bassi che separano le parole. *Le costanti sono solo una convenzione e possono essere modificate.*"
   ]
  },
  {
   "cell_type": "code",
   "execution_count": 7,
   "metadata": {},
   "outputs": [
    {
     "name": "stdout",
     "output_type": "stream",
     "text": [
      "9000\n"
     ]
    }
   ],
   "source": [
    "MAX_SIZE = 9000\n",
    "print(MAX_SIZE)"
   ]
  },
  {
   "cell_type": "markdown",
   "metadata": {
    "tags": []
   },
   "source": [
    "## Commenti\n",
    "\n",
    "Quando inizi a scrivere codice più complicato, dovrai dedicare più tempo a pensare a come codificare le soluzioni ai problemi che desideri risolvere. Una volta che ti viene un'idea, dedicherai una discreta quantità di tempo alla risoluzione dei problemi del codice e alla revisione del tuo approccio generale.\n",
    "\n",
    "I commenti ti consentono di scrivere all'interno del tuo programma. In Python, qualsiasi riga che inizia con il simbolo cancelletto (#) viene ignorata dall'interprete Python."
   ]
  },
  {
   "cell_type": "code",
   "execution_count": 8,
   "metadata": {
    "tags": []
   },
   "outputs": [
    {
     "name": "stdout",
     "output_type": "stream",
     "text": [
      "Questa riga non è un commento, è codice.\n"
     ]
    }
   ],
   "source": [
    "# Questa riga è un commento.\n",
    "print('Questa riga non è un commento, è codice.')"
   ]
  },
  {
   "cell_type": "markdown",
   "metadata": {},
   "source": [
    "**Cosa rende valido un commento?**\n",
    "\n",
    "* *È breve e pertinente, ma è un pensiero completo*. La maggior parte dei commenti dovrebbero essere scritti in frasi complete.\n",
    "* Spiega il tuo pensiero, in modo che quando tornerai al codice in seguito capirai come stavi affrontando il problema. Aiuta anche gli altri che lavorano con il tuo codice a comprendere il tuo approccio.\n",
    "* Spiega in dettaglio sezioni di codice particolarmente difficili.\n",
    "\n",
    "**Quando dovresti scrivere i commenti?**\n",
    "\n",
    "- Quando devi pensare al codice prima di scriverlo.\n",
    "- Quando è probabile che in seguito dimentichi esattamente come stavi affrontando un problema.\n",
    "- Quando esiste più di un modo per risolvere un problema.\n",
    "- Quando è improbabile che gli altri anticipino il tuo modo di pensare a un problema.\n",
    "\n",
    "Scrivere buoni commenti è uno dei segni evidenti di un buon programmatore."
   ]
  },
  {
   "cell_type": "markdown",
   "metadata": {},
   "source": [
    "## Stringa di documento\n",
    "[Docstring](https://peps.python.org/pep-0257/) è l'abbreviazione di stringa di documentazione.\n",
    "Le docstring Python sono le stringhe letterali che appaiono subito dopo la definizione di una funzione, metodo, classe o modulo. Vengono utilizzate le virgolette triple."
   ]
  },
  {
   "cell_type": "code",
   "execution_count": 9,
   "metadata": {},
   "outputs": [],
   "source": [
    "def greet(name):\n",
    "    \"\"\"\n",
    "    This function greets to the \n",
    "    person passed in as a parameter\n",
    "    \"\"\"\n",
    "    print('Ciao!' + name)"
   ]
  },
  {
   "cell_type": "markdown",
   "metadata": {},
   "source": [
    "# Python è un linguaggio dinamicamente tipizzato\n",
    "\n",
    "In Python, il nome delle variabili non è collegato ad alcun tipo. Puoi avere una variabile intera, cui poi assegnare un numero con la virgola, oppure una stringa senza alcun vincolo."
   ]
  },
  {
   "cell_type": "code",
   "execution_count": 10,
   "metadata": {},
   "outputs": [
    {
     "name": "stdout",
     "output_type": "stream",
     "text": [
      "<class 'int'>\n",
      "<class 'float'>\n",
      "<class 'complex'>\n",
      "<class 'str'>\n"
     ]
    }
   ],
   "source": [
    "x = 4 \n",
    "print(type(x))\n",
    "\n",
    "x = 3.14159 \n",
    "print(type(x))\n",
    "\n",
    "x = 3+4j\n",
    "print(type(x))\n",
    "\n",
    "x = 'Ciao'\n",
    "print(type(x))"
   ]
  },
  {
   "cell_type": "markdown",
   "metadata": {},
   "source": [
    "# Ogni variabile è un oggetto"
   ]
  },
  {
   "cell_type": "markdown",
   "metadata": {},
   "source": [
    "Nei linguaggi di programmazione orientati agli oggetti, ogni entità ha dati (attributi) e funzionalità associate (metodi). A questi attributi e metodi si accede tramite la dot-syntax. Ciò che a volte è inaspettato è che in Python anche i tipi semplici hanno attributi e metodi allegati."
   ]
  },
  {
   "cell_type": "code",
   "execution_count": 11,
   "metadata": {},
   "outputs": [
    {
     "name": "stdout",
     "output_type": "stream",
     "text": [
      "4.0+3.0j\n",
      "False\n",
      "True\n"
     ]
    }
   ],
   "source": [
    "x = 4+3j\n",
    "print(f'{x.real}+{x.imag}j')\n",
    "\n",
    "x = 4.5\n",
    "print(x.is_integer())\n",
    "\n",
    "x = 3.0\n",
    "print(x.is_integer())"
   ]
  },
  {
   "cell_type": "markdown",
   "metadata": {},
   "source": [
    "## Numeri\n",
    "\n",
    "I numeri possono appartenere a 3 diversi tipi numerici: interi (`int`), con la virgola (`float`), complessi (`complex`). Il modulo *math* contiene funzioni matematiche. Il modulo *random* fornisce funzioni per numeri casuali.\n",
    "\n",
    "*sys.maxsize* contiene la dimensione massima in byte che può avere un int Python. *sys.float_info* contiene metadati sui float."
   ]
  },
  {
   "cell_type": "code",
   "execution_count": 12,
   "metadata": {},
   "outputs": [
    {
     "name": "stdout",
     "output_type": "stream",
     "text": [
      "100 100 100 100\n",
      "150.0 150.0\n",
      "inf\n",
      "<class 'float'>\n",
      "(3+14j)\n"
     ]
    }
   ],
   "source": [
    "# Rappresentazioni decimali, esadecimali, ottali e binarie dello stesso numero intero\n",
    "print(100, 0x64, 0o144, 0b1100100)\n",
    "\n",
    "# Letterali float senza e con esponente\n",
    "print(150.0, 1.5e2)\n",
    "\n",
    "# inf è un valore letterale Float speciale\n",
    "# (2^400 è un numero enorme. 2^85 è vicino al numero di atomi nell'universo)\n",
    "print(2e400)\n",
    "print(type(2e400))\n",
    "\n",
    "# Numero complesso\n",
    "print(3+14j)   "
   ]
  },
  {
   "cell_type": "code",
   "execution_count": 13,
   "metadata": {},
   "outputs": [
    {
     "name": "stdout",
     "output_type": "stream",
     "text": [
      "3.0\n",
      "1.4142135623730951\n",
      "3.141592653589793\n",
      "0.5720249190220912\n"
     ]
    }
   ],
   "source": [
    "import math\n",
    "print(math.fabs(-3))\n",
    "print(math.sqrt(2))\n",
    "print(math.pi)\n",
    "\n",
    "import random\n",
    "print(random.random())"
   ]
  },
  {
   "cell_type": "markdown",
   "metadata": {},
   "source": [
    "## Operazioni coi numeri\n",
    "\n",
    "* `+` - somma\n",
    "* `-` - sottrazione\n",
    "* `*` - **moltiplicazione**\n",
    "* `/` - **divisione**\n",
    "* `%` - **resto**\n",
    "* `**` - **elevamento a potenza**"
   ]
  },
  {
   "cell_type": "code",
   "execution_count": 14,
   "metadata": {},
   "outputs": [
    {
     "name": "stdout",
     "output_type": "stream",
     "text": [
      "7\n",
      "3\n",
      "10\n",
      "2.5\n",
      "1\n",
      "25\n"
     ]
    }
   ],
   "source": [
    "print(5 + 2)\n",
    "print(5 - 2)\n",
    "print(5 * 2)\n",
    "print(5 / 2)\n",
    "print(5 % 2)\n",
    "print(5 ** 2)"
   ]
  },
  {
   "cell_type": "markdown",
   "metadata": {},
   "source": [
    "## Valori booleani\n",
    "\n",
    "I valori booleani sono i due oggetti costanti *False* e *True*.\n",
    "Sono usati per rappresentare valori di verità (anche altri valori possono essere considerati falsi o veri)."
   ]
  },
  {
   "cell_type": "code",
   "execution_count": 15,
   "metadata": {},
   "outputs": [
    {
     "name": "stdout",
     "output_type": "stream",
     "text": [
      "True\n",
      "False\n"
     ]
    }
   ],
   "source": [
    "x = True\n",
    "y = False\n",
    "\n",
    "print(x)\n",
    "print(y)"
   ]
  },
  {
   "cell_type": "code",
   "execution_count": 16,
   "metadata": {},
   "outputs": [
    {
     "name": "stdout",
     "output_type": "stream",
     "text": [
      "False\n",
      "True\n"
     ]
    }
   ],
   "source": [
    "x = (3 > 5)\n",
    "y = (3 != 5)\n",
    "\n",
    "print(x)\n",
    "print(y)"
   ]
  },
  {
   "cell_type": "markdown",
   "metadata": {},
   "source": [
    "Ogni valore può essere valutato come Vero o Falso. La regola generale è che qualsiasi valore diverso da zero o non vuoto verrà valutato come Vero. Se non sei sicuro, puoi aprire un terminale Python e scrivere due righe per scoprire se il valore che stai considerando è True o False."
   ]
  },
  {
   "cell_type": "code",
   "execution_count": 17,
   "metadata": {
    "collapsed": false,
    "jupyter": {
     "outputs_hidden": false
    }
   },
   "outputs": [
    {
     "name": "stdout",
     "output_type": "stream",
     "text": [
      "Questo restituisce True.\n"
     ]
    }
   ],
   "source": [
    "if 3:\n",
    "    print('Questo restituisce True.')\n",
    "else:\n",
    "    print('Questo restituisce False.')"
   ]
  },
  {
   "cell_type": "code",
   "execution_count": 18,
   "metadata": {
    "collapsed": false,
    "jupyter": {
     "outputs_hidden": false
    }
   },
   "outputs": [
    {
     "name": "stdout",
     "output_type": "stream",
     "text": [
      "Questo restituisce False.\n"
     ]
    }
   ],
   "source": [
    "if '':\n",
    "    print('Questo restituisce True.')\n",
    "else:\n",
    "    print('Questo restituisce False.')"
   ]
  },
  {
   "cell_type": "code",
   "execution_count": 19,
   "metadata": {
    "collapsed": false,
    "jupyter": {
     "outputs_hidden": false
    }
   },
   "outputs": [
    {
     "name": "stdout",
     "output_type": "stream",
     "text": [
      "Questo restituisce True.\n"
     ]
    }
   ],
   "source": [
    "if 'Ciao':\n",
    "    print('Questo restituisce True.')\n",
    "else:\n",
    "    print('Questo restituisce False.')"
   ]
  },
  {
   "cell_type": "code",
   "execution_count": 20,
   "metadata": {
    "collapsed": false,
    "jupyter": {
     "outputs_hidden": false
    }
   },
   "outputs": [
    {
     "name": "stdout",
     "output_type": "stream",
     "text": [
      "Questo restituisce False.\n"
     ]
    }
   ],
   "source": [
    "if None:\n",
    "    print('Questo restituisce True.')\n",
    "else:\n",
    "    print('Questo restituisce False.')"
   ]
  },
  {
   "cell_type": "code",
   "execution_count": 21,
   "metadata": {},
   "outputs": [
    {
     "name": "stdout",
     "output_type": "stream",
     "text": [
      "Questo restituisce False.\n"
     ]
    }
   ],
   "source": [
    "if '':\n",
    "    print('Questo restituisce True.')\n",
    "else:\n",
    "    print('Questo restituisce False.')"
   ]
  },
  {
   "cell_type": "code",
   "execution_count": 22,
   "metadata": {},
   "outputs": [
    {
     "name": "stdout",
     "output_type": "stream",
     "text": [
      "Questo restituisce False.\n"
     ]
    }
   ],
   "source": [
    "if 0:\n",
    "    print('Questo restituisce True.')\n",
    "else:\n",
    "    print('Questo restituisce False.')"
   ]
  },
  {
   "cell_type": "markdown",
   "metadata": {},
   "source": [
    "## Conversione implicita\n",
    "Nella conversione implicita del tipo, Python converte automaticamente un tipo in un altro tipo. Questo processo non richiede alcun coinvolgimento dell'utente. Python promuove la conversione del tipo di dati inferiore (`int`) nel tipo di dati superiore (`float`) evitando la perdita di dati."
   ]
  },
  {
   "cell_type": "code",
   "execution_count": 23,
   "metadata": {},
   "outputs": [
    {
     "name": "stdout",
     "output_type": "stream",
     "text": [
      "<class 'int'>\n",
      "<class 'float'>\n",
      "<class 'float'>\n"
     ]
    }
   ],
   "source": [
    "print(type(123))\n",
    "print(type(1.23))\n",
    "print(type(123 + 1.23))"
   ]
  },
  {
   "cell_type": "markdown",
   "metadata": {},
   "source": [
    "## Casting esplicito\n",
    "* `int()` - costruisce un numero intero da un valore letterale intero, un valore letterale float o un valore letterale stringa (a condizione che la stringa rappresenti un numero intero)\n",
    "* `float()` - costruisce un numero float da un valore letterale intero, un valore letterale float o un valore letterale stringa (a condizione che la stringa rappresenti un valore float o un numero intero)\n",
    "* `str()` - costruisce una stringa da un'ampia varietà di tipi di dati, tra cui stringhe, valori letterali interi e valori letterali float\n",
    "* `bool()` - costruisce un valore booleano da valori letterali numerici."
   ]
  },
  {
   "cell_type": "code",
   "execution_count": 24,
   "metadata": {},
   "outputs": [
    {
     "name": "stdout",
     "output_type": "stream",
     "text": [
      "6912\n",
      "1234\n"
     ]
    }
   ],
   "source": [
    "print(int('1234') + int('5678'))\n",
    "print(str(1234))"
   ]
  }
 ],
 "metadata": {
  "kernelspec": {
   "display_name": ".venv",
   "language": "python",
   "name": "python3"
  },
  "language_info": {
   "codemirror_mode": {
    "name": "ipython",
    "version": 3
   },
   "file_extension": ".py",
   "mimetype": "text/x-python",
   "name": "python",
   "nbconvert_exporter": "python",
   "pygments_lexer": "ipython3",
   "version": "3.12.3"
  },
  "toc-autonumbering": true,
  "toc-showmarkdowntxt": false,
  "toc-showtags": false
 },
 "nbformat": 4,
 "nbformat_minor": 4
}
