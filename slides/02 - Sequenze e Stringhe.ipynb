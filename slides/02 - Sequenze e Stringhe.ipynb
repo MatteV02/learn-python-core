{
 "cells": [
  {
   "cell_type": "markdown",
   "id": "e2e758bb",
   "metadata": {},
   "source": [
    "# 02 - Sequenze e Stringhe"
   ]
  },
  {
   "cell_type": "markdown",
   "id": "1375e798",
   "metadata": {},
   "source": [
    "## Array\n",
    "Python **non ha il supporto integrato per gli array**, ma è possibile utilizzare invece le sequenze Python."
   ]
  },
  {
   "cell_type": "code",
   "execution_count": 1,
   "id": "607b92e2",
   "metadata": {},
   "outputs": [
    {
     "name": "stdout",
     "output_type": "stream",
     "text": [
      "<class 'int'> 1\n",
      "<class 'int'> 2\n",
      "<class 'int'> 2\n",
      "<class 'float'> 1.0\n",
      "<class 'float'> 2.8\n",
      "<class 'float'> 2.0\n",
      "<class 'str'> abc\n",
      "<class 'str'> 4.2\n",
      "<class 'str'> 2\n",
      "<class 'bool'> True\n",
      "<class 'bool'> False\n",
      "<class 'bool'> True\n"
     ]
    }
   ],
   "source": [
    "def show(n):\n",
    "    print(type(n), n)\n",
    "\n",
    "show(int(1))\n",
    "show(int(2.8))\n",
    "show(int('2'))\n",
    "\n",
    "show(float(1))\n",
    "show(float(2.8))\n",
    "show(float('2.0'))\n",
    "\n",
    "show(str('abc'))\n",
    "show(str(4.2))\n",
    "show(str(2))\n",
    "\n",
    "show(bool('1'))\n",
    "show(bool(''))\n",
    "show(bool(0.2))"
   ]
  },
  {
   "cell_type": "markdown",
   "id": "89bade7e",
   "metadata": {},
   "source": [
    "# Sequenze\n",
    "Le sequenze sono un termine generico per un *insieme ordinato*, il che significa che l'ordine in cui inseriamo gli elementi sarà lo stesso quando vi accediamo. Sono supportati sei diversi tipi di sequenze: \n",
    "* corde, \n",
    "* elenchi, \n",
    "* tuple, \n",
    "* sequenze di byte, \n",
    "* array di byte, \n",
    "* gamma di oggetti."
   ]
  },
  {
   "cell_type": "code",
   "execution_count": 2,
   "id": "9117f9dd",
   "metadata": {},
   "outputs": [],
   "source": [
    "# sequenza = [1,2,3,4,5,5]\n",
    "sequence = 'abcdefghil'"
   ]
  },
  {
   "cell_type": "markdown",
   "id": "bdb1b154",
   "metadata": {},
   "source": [
    "## Operazioni (per sequenze)\n",
    "\n",
    "L'operatore (+) viene utilizzato per concatenare il secondo elemento al primo (concatenazione)."
   ]
  },
  {
   "cell_type": "code",
   "execution_count": 3,
   "id": "c916104d",
   "metadata": {},
   "outputs": [
    {
     "name": "stdout",
     "output_type": "stream",
     "text": [
      "abcdefghilabcdefghil\n"
     ]
    }
   ],
   "source": [
    "print(sequence + sequence)"
   ]
  },
  {
   "cell_type": "markdown",
   "id": "88cb1198",
   "metadata": {},
   "source": [
    "L'operatore (\\*) viene utilizzato per ripetere una sequenza n numero di volte (ripeti)."
   ]
  },
  {
   "cell_type": "code",
   "execution_count": 4,
   "id": "ad3d6849",
   "metadata": {},
   "outputs": [
    {
     "name": "stdout",
     "output_type": "stream",
     "text": [
      "abcdefghilabcdefghilabcdefghilabcdefghilabcdefghilabcdefghilabcdefghilabcdefghilabcdefghilabcdefghilabcdefghilabcdefghilabcdefghilabcdefghilabcdefghilabcdefghilabcdefghilabcdefghilabcdefghilabcdefghilabcdefghilabcdefghilabcdefghilabcdefghilabcdefghilabcdefghilabcdefghilabcdefghilabcdefghilabcdefghil\n"
     ]
    }
   ],
   "source": [
    "print(sequence * 30)"
   ]
  },
  {
   "cell_type": "markdown",
   "id": "692dd9d7",
   "metadata": {},
   "source": [
    "Gli operatori di appartenenza (in) e (not in) vengono utilizzati per verificare se un elemento è presente o meno nella sequenza (appartenenza). Restituiscono Vero o Falso."
   ]
  },
  {
   "cell_type": "code",
   "execution_count": 5,
   "id": "3ed83ff7",
   "metadata": {},
   "outputs": [
    {
     "name": "stdout",
     "output_type": "stream",
     "text": [
      "False\n"
     ]
    }
   ],
   "source": [
    "print('B' in sequence)"
   ]
  },
  {
   "cell_type": "markdown",
   "id": "b12f34ec",
   "metadata": {},
   "source": [
    "Tutte le sequenze in Python possono essere affettate (slicing). L'operatore di slicing può estrarre una parte di una sequenza dalla sequenza."
   ]
  },
  {
   "cell_type": "code",
   "execution_count": 6,
   "id": "3c3fb0ab",
   "metadata": {},
   "outputs": [
    {
     "name": "stdout",
     "output_type": "stream",
     "text": [
      "bc\n"
     ]
    }
   ],
   "source": [
    "print(sequence[1:3])"
   ]
  },
  {
   "cell_type": "markdown",
   "id": "791852f9",
   "metadata": {},
   "source": [
    "## Funzioni (per sequenze)"
   ]
  },
  {
   "cell_type": "markdown",
   "id": "e4d6cd4d",
   "metadata": {},
   "source": [
    "La funzione *len()* è molto utile quando vuoi conoscere la lunghezza della sequenza."
   ]
  },
  {
   "cell_type": "code",
   "execution_count": 7,
   "id": "fc678e75",
   "metadata": {},
   "outputs": [
    {
     "name": "stdout",
     "output_type": "stream",
     "text": [
      "10\n"
     ]
    }
   ],
   "source": [
    "print(len(sequence))"
   ]
  },
  {
   "cell_type": "markdown",
   "id": "d7bce93f",
   "metadata": {},
   "source": [
    "Le funzioni *min()* e *max()* vengono utilizzate per ottenere rispettivamente il valore minimo e il valore massimo dalle sequenze."
   ]
  },
  {
   "cell_type": "code",
   "execution_count": 8,
   "id": "e38dd515",
   "metadata": {},
   "outputs": [
    {
     "name": "stdout",
     "output_type": "stream",
     "text": [
      "a\n",
      "l\n"
     ]
    }
   ],
   "source": [
    "print(min(sequence))\n",
    "print(max(sequence))"
   ]
  },
  {
   "cell_type": "markdown",
   "id": "bb336bd0",
   "metadata": {},
   "source": [
    "Il metodo *index()* cerca un elemento nella sequenza e restituisce l'indice della prima occorrenza."
   ]
  },
  {
   "cell_type": "code",
   "execution_count": 9,
   "id": "63a77c87",
   "metadata": {},
   "outputs": [
    {
     "name": "stdout",
     "output_type": "stream",
     "text": [
      "1\n"
     ]
    }
   ],
   "source": [
    "print(sequence.index('b'))"
   ]
  },
  {
   "cell_type": "markdown",
   "id": "2ede62ce",
   "metadata": {},
   "source": [
    "Il metodo *count()* conta il numero di volte in cui un elemento è comparso nella sequenza."
   ]
  },
  {
   "cell_type": "code",
   "execution_count": 10,
   "id": "6bdf4049",
   "metadata": {},
   "outputs": [
    {
     "name": "stdout",
     "output_type": "stream",
     "text": [
      "0\n"
     ]
    }
   ],
   "source": [
    "print(sequence.count('B'))"
   ]
  },
  {
   "cell_type": "markdown",
   "id": "752e5916",
   "metadata": {},
   "source": [
    "# Stringhe"
   ]
  },
  {
   "cell_type": "markdown",
   "id": "640b903f",
   "metadata": {},
   "source": [
    "Le stringhe sono una sequenza di caratteri scritti tra virgolette singole o doppie. Python non ha un tipo di carattere, quindi anche un singolo carattere tra virgolette viene considerato come una stringa. Le stringhe sono di natura immutabile, quindi possiamo riassegnare una variabile a una nuova stringa ma non possiamo apportare alcuna modifica alla stringa."
   ]
  },
  {
   "cell_type": "code",
   "execution_count": 11,
   "id": "2af42cff",
   "metadata": {},
   "outputs": [
    {
     "name": "stdout",
     "output_type": "stream",
     "text": [
      "Questa è una stringa.\n",
      "Anche questa è una stringa.\n",
      "Ho detto al mio amico: \"Python è il mio linguaggio preferito!\"\n",
      "Il linguaggio 'Python' prende il nome da Monty Python, non dal serpente.\n"
     ]
    }
   ],
   "source": [
    "print(\"Questa è una stringa.\")\n",
    "print('Anche questa è una stringa.')\n",
    "print('Ho detto al mio amico: \"Python è il mio linguaggio preferito!\"')\n",
    "print(\"Il linguaggio 'Python' prende il nome da Monty Python, non dal serpente.\")"
   ]
  },
  {
   "cell_type": "markdown",
   "id": "c1670cc8",
   "metadata": {},
   "source": [
    "*Le stringhe sono immutabili*. Ciò significa che gli elementi di una stringa non possono essere modificati una volta assegnati. \n",
    "Possiamo solo assegnare valori diversi allo stesso riferimento (ovvero, il vecchio oggetto viene scartato).\n",
    "Non possiamo eliminare o rimuovere caratteri da una stringa. Ma è possibile eliminare completamente la stringa utilizzando la parola chiave del."
   ]
  },
  {
   "cell_type": "code",
   "execution_count": 12,
   "id": "eb0da3f0",
   "metadata": {},
   "outputs": [],
   "source": [
    "name = 'python'\n",
    "# nome[2] = 'a'\n",
    "# TypeError: l'oggetto 'str' non supporta l'assegnazione di elementi"
   ]
  },
  {
   "cell_type": "markdown",
   "id": "a4856d72",
   "metadata": {},
   "source": [
    "## Accesso ai caratteri\n",
    "È possibile accedere ai singoli caratteri utilizzando *indicizzazione*, *indicizzazione negativa* e *affettamento*. L'indice inizia sia da 0 che da -1. L'accesso a un carattere fuori dall'intervallo dell'indice solleva IndexError. L'utilizzo di un indice non intero solleva TypeError. Per quanto riguarda l'indicizzazione negativa, l'indice di -1 si riferisce all'ultimo elemento, -2 al penultimo elemento e così via. Possiamo anche accedere a un intervallo di elementi in una stringa utilizzando l'operatore di affettamento :(due punti)."
   ]
  },
  {
   "cell_type": "code",
   "execution_count": 13,
   "id": "3cb0a71c",
   "metadata": {},
   "outputs": [
    {
     "name": "stdout",
     "output_type": "stream",
     "text": [
      "o\n",
      "r\n",
      "e\n",
      "n\n",
      "oop\n",
      "grammazio\n",
      "rogrammazione\n",
      "ooprogrammazione\n"
     ]
    }
   ],
   "source": [
    "name = 'ooprogrammazione'\n",
    "# indicizzazione\n",
    "print(name[0]) # o\n",
    "print(name[3]) # r\n",
    "\n",
    "# indicizzazione negativa\n",
    "print(name[-1]) # g\n",
    "print(name[-2]) # n\n",
    "\n",
    "# affettare\n",
    "print(name[0:3])  # oop\n",
    "print(name[5:-2]) # grammi\n",
    "print(name[3:])   # rogramming\n",
    "print(name[:])    # ooprogramming"
   ]
  },
  {
   "cell_type": "markdown",
   "id": "308542a7",
   "metadata": {},
   "source": [
    "## Combinazione di stringhe"
   ]
  },
  {
   "cell_type": "markdown",
   "id": "b117003d",
   "metadata": {},
   "source": [
    "Il casting esplicito è necessario quando si combinano valori letterali numerici e valori letterali stringa.\n",
    "In alternativa, utilizzare tecniche di formattazione delle stringhe."
   ]
  },
  {
   "cell_type": "code",
   "execution_count": 14,
   "id": "652c2872",
   "metadata": {},
   "outputs": [
    {
     "name": "stdout",
     "output_type": "stream",
     "text": [
      "Buon 26esimo compleanno!\n",
      "Buon 26esimo compleanno!\n"
     ]
    }
   ],
   "source": [
    "age = 26 \n",
    "# print('Buon ' + età + 'esimo compleanno!')\n",
    "# TypeError: deve essere str, non int\n",
    "print('Buon ' + str(age) + 'esimo compleanno!')\n",
    "print(f'Buon {age}esimo compleanno!')"
   ]
  },
  {
   "cell_type": "markdown",
   "id": "ec0edfe6",
   "metadata": {},
   "source": [
    "## Stringhe di formattazione"
   ]
  },
  {
   "cell_type": "code",
   "execution_count": 15,
   "id": "b7233464",
   "metadata": {},
   "outputs": [
    {
     "name": "stdout",
     "output_type": "stream",
     "text": [
      "bicocchi nicola\n",
      "nicola     bicocchi  \n",
      "0.3333 0.6667\n",
      "0.333333 0.666667\n",
      "000000.3 000000.7\n"
     ]
    }
   ],
   "source": [
    "# riordinare l’ordine delle argomentazioni\n",
    "print(f'{'bicocchi'} {'nicola'}')\n",
    "\n",
    "# imbottitura fino a 10 spazi\n",
    "print(f'{'nicola':10} {'bicocchi':10}')\n",
    "\n",
    "# specificando la precisione di 4 cifre\n",
    "print(f'{1 / 3:.4f} {2 / 3:.4f}')\n",
    "\n",
    "# padding fino a 8 spazi, precisione a 6 cifre\n",
    "print(f'{1/3:08.6f} {2/3:08.6f}')\n",
    "\n",
    "# padding fino a 8 spazi, precisione di 1 cifra\n",
    "print(f'{1/3:08.1f} {2/3:08.1f}')"
   ]
  },
  {
   "cell_type": "markdown",
   "id": "274b9150",
   "metadata": {},
   "source": [
    "## Gestire gli spazi bianchi"
   ]
  },
  {
   "cell_type": "code",
   "execution_count": 16,
   "id": "0632a726",
   "metadata": {},
   "outputs": [
    {
     "name": "stdout",
     "output_type": "stream",
     "text": [
      "' python'\n",
      "'python '\n",
      "'python'\n",
      "'    python'\n",
      "'python    '\n",
      "'  python  '\n"
     ]
    }
   ],
   "source": [
    "name = ' python '\n",
    "print(f'\\'{name.rstrip()}\\'')\n",
    "print(f'\\'{name.lstrip()}\\'')\n",
    "print(f'\\'{name.strip()}\\'')\n",
    "\n",
    "name = 'python'\n",
    "print(f'\\'{name.rjust(10)}\\'')\n",
    "print(f'\\'{name.ljust(10)}\\'')\n",
    "print(f'\\'{name.center(10)}\\'')"
   ]
  },
  {
   "cell_type": "markdown",
   "id": "bcd3a551",
   "metadata": {},
   "source": [
    "## Gestire i casi"
   ]
  },
  {
   "cell_type": "code",
   "execution_count": 17,
   "id": "b32c2745",
   "metadata": {},
   "outputs": [
    {
     "name": "stdout",
     "output_type": "stream",
     "text": [
      "ADA LOVELACE\n",
      "ada lovelace\n",
      "Ada lovelace\n",
      "Ada Lovelace\n",
      "False\n",
      "False\n",
      "True\n"
     ]
    }
   ],
   "source": [
    "name = 'Ada Lovelace'\n",
    "print(name.upper())\n",
    "print(name.lower())\n",
    "print(name.capitalize())\n",
    "print(name.title())\n",
    "print(name.islower())\n",
    "print(name.isupper())\n",
    "print(name.istitle())"
   ]
  },
  {
   "cell_type": "markdown",
   "id": "69418d31",
   "metadata": {},
   "source": [
    "## Trovare e sostituire sottostringhe"
   ]
  },
  {
   "cell_type": "markdown",
   "id": "ebb80946",
   "metadata": {},
   "source": [
    "Se vuoi sapere dove appare una sottostringa in una stringa, puoi usare il metodo *find()*. Il metodo *find()* ti dice l'indice in cui inizia la sottostringa. Tieni presente, tuttavia, che questa funzione restituisce solo l'indice della prima apparizione della sottostringa che stai cercando. Se la sottostringa appare più di una volta, perderai le altre sottostringhe."
   ]
  },
  {
   "cell_type": "code",
   "execution_count": 18,
   "id": "34c4fafc",
   "metadata": {},
   "outputs": [
    {
     "name": "stdout",
     "output_type": "stream",
     "text": [
      "60\n"
     ]
    }
   ],
   "source": [
    "message = 'Mi piacciono i cani e i gatti, ma preferirei molto avere un cane.'\n",
    "dog_index = message.find('cane')\n",
    "print(dog_index)"
   ]
  },
  {
   "cell_type": "markdown",
   "id": "e6274041",
   "metadata": {},
   "source": [
    "Se vuoi trovare l'ultima apparizione di una sottostringa, puoi usare la funzione *rfind()*:"
   ]
  },
  {
   "cell_type": "code",
   "execution_count": 19,
   "id": "6201c82a",
   "metadata": {},
   "outputs": [
    {
     "name": "stdout",
     "output_type": "stream",
     "text": [
      "60\n"
     ]
    }
   ],
   "source": [
    "message = 'Mi piacciono i cani e i gatti, ma preferirei molto avere un cane.'\n",
    "last_dog_index = message.rfind('cane')\n",
    "print(last_dog_index)"
   ]
  },
  {
   "cell_type": "markdown",
   "id": "0bb4adc8",
   "metadata": {},
   "source": [
    "È possibile utilizzare la funzione *replace()* per sostituire qualsiasi sottostringa con un'altra sottostringa. Per utilizzare la funzione *replace()*, fornire la sottostringa che si desidera sostituire, quindi la sottostringa con cui si desidera sostituirla. È inoltre necessario memorizzare la nuova stringa, nella stessa variabile stringa o in una nuova variabile."
   ]
  },
  {
   "cell_type": "code",
   "execution_count": 20,
   "id": "220e50a6",
   "metadata": {},
   "outputs": [
    {
     "name": "stdout",
     "output_type": "stream",
     "text": [
      "Mi piacciono i cani e i gatti, ma preferirei molto avere un serpente.\n"
     ]
    }
   ],
   "source": [
    "message = 'Mi piacciono i cani e i gatti, ma preferirei molto avere un cane.'\n",
    "message = message.replace('cane', 'serpente')\n",
    "print(message)"
   ]
  },
  {
   "cell_type": "markdown",
   "id": "4b6f04c9",
   "metadata": {},
   "source": [
    "## Divisione e unione di stringhe\n",
    "Le stringhe possono essere suddivise in un insieme di sottostringhe quando sono separate da un carattere ripetuto. Se una stringa è composta da una frase semplice, la stringa può essere divisa in base agli spazi. La funzione *split()* restituisce un elenco di sottostringhe. La funzione *split()* accetta un argomento, il carattere che separa le parti della stringa."
   ]
  },
  {
   "cell_type": "code",
   "execution_count": 21,
   "id": "84180f27",
   "metadata": {},
   "outputs": [
    {
     "name": "stdout",
     "output_type": "stream",
     "text": [
      "['cane', 'gatto', 'tigre', 'topo', 'orso']\n"
     ]
    }
   ],
   "source": [
    "# Dalla stringa alla lista\n",
    "animals = 'cane, gatto, tigre, topo, orso'\n",
    "# print(animals.split(','))\n",
    "print(animals.split(', '))"
   ]
  },
  {
   "cell_type": "code",
   "execution_count": 22,
   "id": "ef402dca",
   "metadata": {},
   "outputs": [
    {
     "name": "stdout",
     "output_type": "stream",
     "text": [
      "cane, gatto, tigre, topo, orso\n"
     ]
    }
   ],
   "source": [
    "# Dalla lista alla stringa\n",
    "# Non farlo!\n",
    "animals = ['cane', 'gatto', 'tigre', 'topo', 'orso']\n",
    "semicolon_separated = animals[0]\n",
    "for animal in animals[1:]:\n",
    "    semicolon_separated += ', ' + animal\n",
    "print(semicolon_separated)"
   ]
  },
  {
   "cell_type": "code",
   "execution_count": 23,
   "id": "747179f7",
   "metadata": {},
   "outputs": [
    {
     "name": "stdout",
     "output_type": "stream",
     "text": [
      "cane, gatto, tigre, topo, orso\n"
     ]
    }
   ],
   "source": [
    "# Dalla lista alla stringa\n",
    "# Fallo!\n",
    "animals = ['cane', 'gatto', 'tigre', 'topo', 'orso']\n",
    "print(', '.join(animals))"
   ]
  }
 ],
 "metadata": {
  "kernelspec": {
   "display_name": ".venv",
   "language": "python",
   "name": "python3"
  },
  "language_info": {
   "codemirror_mode": {
    "name": "ipython",
    "version": 3
   },
   "file_extension": ".py",
   "mimetype": "text/x-python",
   "name": "python",
   "nbconvert_exporter": "python",
   "pygments_lexer": "ipython3",
   "version": "3.12.3"
  }
 },
 "nbformat": 4,
 "nbformat_minor": 5
}
