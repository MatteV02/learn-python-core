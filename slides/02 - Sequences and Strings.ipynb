{
 "cells": [
  {
   "cell_type": "markdown",
   "id": "1375e798",
   "metadata": {},
   "source": [
    "## Arrays\n",
    "Python **does not have built-in support for Arrays**, but Python Lists can be used instead."
   ]
  },
  {
   "cell_type": "code",
   "execution_count": null,
   "id": "607b92e2",
   "metadata": {},
   "outputs": [
    {
     "name": "stdout",
     "output_type": "stream",
     "text": [
      "<class 'int'> 1\n",
      "<class 'int'> 2\n",
      "<class 'int'> 2\n",
      "<class 'float'> 1.0\n",
      "<class 'float'> 2.8\n",
      "<class 'float'> 2.0\n",
      "<class 'str'> abc\n",
      "<class 'str'> 4.2\n",
      "<class 'str'> 2\n",
      "<class 'bool'> True\n",
      "<class 'bool'> False\n",
      "<class 'bool'> True\n"
     ]
    }
   ],
   "source": [
    "def show(n):\n",
    "    print(type(n), n)\n",
    "\n",
    "show(int(1))\n",
    "show(int(2.8))\n",
    "show(int('2'))\n",
    "\n",
    "show(float(1))\n",
    "show(float(2.8))\n",
    "show(float('2.0'))\n",
    "\n",
    "show(str('abc'))\n",
    "show(str(4.2))\n",
    "show(str(2))\n",
    "\n",
    "show(bool('1'))\n",
    "show(bool(''))\n",
    "show(bool(0.2))"
   ]
  },
  {
   "cell_type": "markdown",
   "id": "89bade7e",
   "metadata": {},
   "source": [
    "# Sequences\n",
    "Sequences are a generic term for an *ordered set* which means that the order in which we input the items will be the same when we access them. Six different types of sequences are supported: \n",
    "* strings, \n",
    "* lists, \n",
    "* tuples, \n",
    "* byte sequences, \n",
    "* byte arrays, \n",
    "* range objects."
   ]
  },
  {
   "cell_type": "code",
   "execution_count": null,
   "id": "9117f9dd",
   "metadata": {},
   "outputs": [],
   "source": [
    "#sequence = [1,2,3,4,5,5]\n",
    "sequence = 'abcdefghil'"
   ]
  },
  {
   "cell_type": "markdown",
   "id": "bdb1b154",
   "metadata": {},
   "source": [
    "## Operations (for Sequences)\n",
    "\n",
    "The operator (+) is used to concatenate the second element to the first (concatenation)."
   ]
  },
  {
   "cell_type": "code",
   "execution_count": null,
   "id": "c916104d",
   "metadata": {},
   "outputs": [
    {
     "name": "stdout",
     "output_type": "stream",
     "text": [
      "abcdefghilabcdefghil\n"
     ]
    }
   ],
   "source": [
    "print(sequence + sequence)"
   ]
  },
  {
   "cell_type": "markdown",
   "id": "88cb1198",
   "metadata": {},
   "source": [
    "The operator (\\*) is used to repeat a sequence n number of times (repeat)."
   ]
  },
  {
   "cell_type": "code",
   "execution_count": null,
   "id": "ad3d6849",
   "metadata": {},
   "outputs": [
    {
     "name": "stdout",
     "output_type": "stream",
     "text": [
      "abcdefghilabcdefghilabcdefghilabcdefghilabcdefghilabcdefghilabcdefghilabcdefghilabcdefghilabcdefghilabcdefghilabcdefghilabcdefghilabcdefghilabcdefghilabcdefghilabcdefghilabcdefghilabcdefghilabcdefghilabcdefghilabcdefghilabcdefghilabcdefghilabcdefghilabcdefghilabcdefghilabcdefghilabcdefghilabcdefghil\n"
     ]
    }
   ],
   "source": [
    "print(sequence * 30)"
   ]
  },
  {
   "cell_type": "markdown",
   "id": "692dd9d7",
   "metadata": {},
   "source": [
    "Membership operators (in) and (not in) are used to check whether an item is present in the sequence or not (membership). They return True or False. "
   ]
  },
  {
   "cell_type": "code",
   "execution_count": null,
   "id": "3ed83ff7",
   "metadata": {},
   "outputs": [
    {
     "name": "stdout",
     "output_type": "stream",
     "text": [
      "True\n"
     ]
    }
   ],
   "source": [
    "print('b' in sequence)"
   ]
  },
  {
   "cell_type": "markdown",
   "id": "b12f34ec",
   "metadata": {},
   "source": [
    "All the sequences in Python can be sliced (slicing). The slicing operator can take out a part of a sequence from the sequence."
   ]
  },
  {
   "cell_type": "code",
   "execution_count": null,
   "id": "3c3fb0ab",
   "metadata": {},
   "outputs": [
    {
     "name": "stdout",
     "output_type": "stream",
     "text": [
      "bc\n"
     ]
    }
   ],
   "source": [
    "print(sequence[1:3])"
   ]
  },
  {
   "cell_type": "markdown",
   "id": "791852f9",
   "metadata": {},
   "source": [
    "## Functions (for Sequences)"
   ]
  },
  {
   "cell_type": "markdown",
   "id": "e4d6cd4d",
   "metadata": {},
   "source": [
    "The *len()* function is very handy when you want to know the length of the sequence."
   ]
  },
  {
   "cell_type": "code",
   "execution_count": null,
   "id": "fc678e75",
   "metadata": {},
   "outputs": [
    {
     "name": "stdout",
     "output_type": "stream",
     "text": [
      "10\n"
     ]
    }
   ],
   "source": [
    "print(len(sequence))"
   ]
  },
  {
   "cell_type": "markdown",
   "id": "d7bce93f",
   "metadata": {},
   "source": [
    "The *min()* and *max()* functions are used to get the minimum value and the maximum value from the sequences respectively."
   ]
  },
  {
   "cell_type": "code",
   "execution_count": null,
   "id": "e38dd515",
   "metadata": {},
   "outputs": [
    {
     "name": "stdout",
     "output_type": "stream",
     "text": [
      "a\n",
      "l\n"
     ]
    }
   ],
   "source": [
    "print(min(sequence))\n",
    "print(max(sequence))"
   ]
  },
  {
   "cell_type": "markdown",
   "id": "bb336bd0",
   "metadata": {},
   "source": [
    "The *index()* method searches an element in the sequence and returns the index of the first occurrence."
   ]
  },
  {
   "cell_type": "code",
   "execution_count": null,
   "id": "63a77c87",
   "metadata": {},
   "outputs": [
    {
     "name": "stdout",
     "output_type": "stream",
     "text": [
      "1\n"
     ]
    }
   ],
   "source": [
    "print(sequence.index('b'))"
   ]
  },
  {
   "cell_type": "markdown",
   "id": "2ede62ce",
   "metadata": {},
   "source": [
    "The *count()* method counts the number of times an element has occurred in the sequence."
   ]
  },
  {
   "cell_type": "code",
   "execution_count": null,
   "id": "6bdf4049",
   "metadata": {},
   "outputs": [
    {
     "name": "stdout",
     "output_type": "stream",
     "text": [
      "1\n"
     ]
    }
   ],
   "source": [
    "print(sequence.count('b'))"
   ]
  },
  {
   "cell_type": "markdown",
   "id": "752e5916",
   "metadata": {},
   "source": [
    "# Strings"
   ]
  },
  {
   "cell_type": "markdown",
   "id": "640b903f",
   "metadata": {},
   "source": [
    "Strings are a sequence of characters written inside a single or double-quotes. Python does not have a character type so a single character inside quotes is also considered as a string. Strings are immutable in nature so we can reassign a variable to a new string but we can’t make any changes in the string."
   ]
  },
  {
   "cell_type": "code",
   "execution_count": null,
   "id": "2af42cff",
   "metadata": {},
   "outputs": [
    {
     "name": "stdout",
     "output_type": "stream",
     "text": [
      "This is a string.\n",
      "This is also a string.\n",
      "I told my friend, \"Python is my favorite language!\"\n",
      "The language 'Python' is named after Monty Python, not the snake.\n"
     ]
    }
   ],
   "source": [
    "print(\"This is a string.\")\n",
    "print('This is also a string.')\n",
    "print('I told my friend, \"Python is my favorite language!\"')\n",
    "print(\"The language 'Python' is named after Monty Python, not the snake.\")"
   ]
  },
  {
   "cell_type": "markdown",
   "id": "c1670cc8",
   "metadata": {},
   "source": [
    "*Strings are immutable*. This means that elements of a string cannot be changed once they have been assigned. \n",
    "We can only assign different values to the same reference (i.e., the old object is discarded).\n",
    "We cannot delete or remove characters from a string. But deleting the string entirely is possible using the del keyword."
   ]
  },
  {
   "cell_type": "code",
   "execution_count": null,
   "id": "eb0da3f0",
   "metadata": {},
   "outputs": [],
   "source": [
    "name = 'python'\n",
    "# name[2] = 'a'\n",
    "# TypeError: 'str' object does not support item assignment"
   ]
  },
  {
   "cell_type": "markdown",
   "id": "a4856d72",
   "metadata": {},
   "source": [
    "## Accessing characters\n",
    "Individual characters can be accessed using *indexing*, *negative indexing*, and *slicing*. Index starts both from 0 and -1. Access a character out of index range raises IndexError. Using not-integer index raises TypeError. Concerning negative indexing, the index of -1 refers to the last item, -2 to the second last item and so on. We can also access a range of items in a string by using the slicing operator :(colon)."
   ]
  },
  {
   "cell_type": "code",
   "execution_count": null,
   "id": "3cb0a71c",
   "metadata": {},
   "outputs": [
    {
     "name": "stdout",
     "output_type": "stream",
     "text": [
      "o\n",
      "r\n",
      "g\n",
      "n\n",
      "oop\n",
      "grammi\n",
      "rogramming\n",
      "ooprogramming\n"
     ]
    }
   ],
   "source": [
    "name = 'ooprogramming'\n",
    "# indexing\n",
    "print(name[0]) # o\n",
    "print(name[3]) # r\n",
    "\n",
    "# negative indexing\n",
    "print(name[-1]) # g\n",
    "print(name[-2]) # n\n",
    "\n",
    "# slicing\n",
    "print(name[0:3])  # oop\n",
    "print(name[5:-2]) # grammi\n",
    "print(name[3:])   # rogramming\n",
    "print(name[:])    # ooprogramming"
   ]
  },
  {
   "cell_type": "markdown",
   "id": "308542a7",
   "metadata": {},
   "source": [
    "## Combining Strings"
   ]
  },
  {
   "cell_type": "markdown",
   "id": "b117003d",
   "metadata": {},
   "source": [
    "Explicit casting is required when mixing numeric literals and string literals.\n",
    "Alternatively, use string formatting techniques."
   ]
  },
  {
   "cell_type": "code",
   "execution_count": null,
   "id": "652c2872",
   "metadata": {},
   "outputs": [
    {
     "name": "stdout",
     "output_type": "stream",
     "text": [
      "Happy 26th Birthday!\n",
      "Happy 26th Birthday!\n"
     ]
    }
   ],
   "source": [
    "age = 26 \n",
    "# print('Happy ' + age + 'th Birthday!') \n",
    "# TypeError: must be str, not int\n",
    "print('Happy ' + str(age) + 'th Birthday!')\n",
    "print(f'Happy {age}th Birthday!')"
   ]
  },
  {
   "cell_type": "markdown",
   "id": "ec0edfe6",
   "metadata": {},
   "source": [
    "## Formatting Strings"
   ]
  },
  {
   "cell_type": "code",
   "execution_count": null,
   "id": "b7233464",
   "metadata": {},
   "outputs": [
    {
     "name": "stdout",
     "output_type": "stream",
     "text": [
      "bicocchi nicola\n",
      "nicola     bicocchi  \n",
      "0.3333 0.6667\n",
      "0.333333 0.666667\n",
      "000000.3 000000.7\n"
     ]
    }
   ],
   "source": [
    "# re-arranging the order of arguments\n",
    "print(f'{'bicocchi'} {'nicola'}')\n",
    "\n",
    "# padding up to 10 spaces\n",
    "print(f'{'nicola':10} {'bicocchi':10}')\n",
    "\n",
    "# specifying 4 digits precision\n",
    "print(f'{1 / 3:.4f} {2 / 3:.4f}')\n",
    "\n",
    "# padding up to 8 spaces, 6 digits precision\n",
    "print(f'{1 / 3:08.6f} {2 / 3:08.6f}')\n",
    "\n",
    "# padding up to 8 spaces, 1 digit precision\n",
    "print(f'{1 / 3:08.1f} {2 / 3:08.1f}')"
   ]
  },
  {
   "cell_type": "markdown",
   "id": "274b9150",
   "metadata": {},
   "source": [
    "## Dealing with whitespaces"
   ]
  },
  {
   "cell_type": "code",
   "execution_count": null,
   "id": "0632a726",
   "metadata": {},
   "outputs": [
    {
     "name": "stdout",
     "output_type": "stream",
     "text": [
      "' python'\n",
      "'python '\n",
      "'python'\n",
      "'    python'\n",
      "'python    '\n",
      "'  python  '\n"
     ]
    }
   ],
   "source": [
    "name = ' python '\n",
    "print(f'\\'{name.rstrip()}\\'')\n",
    "print(f'\\'{name.lstrip()}\\'')\n",
    "print(f'\\'{name.strip()}\\'')\n",
    "\n",
    "name = 'python'\n",
    "print(f'\\'{name.rjust(10)}\\'')\n",
    "print(f'\\'{name.ljust(10)}\\'')\n",
    "print(f'\\'{name.center(10)}\\'')"
   ]
  },
  {
   "cell_type": "markdown",
   "id": "bcd3a551",
   "metadata": {},
   "source": [
    "## Dealing with cases"
   ]
  },
  {
   "cell_type": "code",
   "execution_count": null,
   "id": "b32c2745",
   "metadata": {},
   "outputs": [
    {
     "name": "stdout",
     "output_type": "stream",
     "text": [
      "ADA LOVELACE\n",
      "ada lovelace\n",
      "Ada lovelace\n",
      "Ada Lovelace\n",
      "False\n",
      "False\n",
      "True\n"
     ]
    }
   ],
   "source": [
    "name = 'Ada Lovelace'\n",
    "print(name.upper())\n",
    "print(name.lower())\n",
    "print(name.capitalize())\n",
    "print(name.title())\n",
    "print(name.islower())\n",
    "print(name.isupper())\n",
    "print(name.istitle())"
   ]
  },
  {
   "cell_type": "markdown",
   "id": "69418d31",
   "metadata": {},
   "source": [
    "## Finding and replacing substrings"
   ]
  },
  {
   "cell_type": "markdown",
   "id": "ebb80946",
   "metadata": {},
   "source": [
    "If you want to know where a substring appears in a string, you can use the *find()* method. The *find()* method tells you the index at which the substring begins. Note, however, that this function only returns the index of the first appearance of the substring you are looking for. If the substring appears more than once, you will miss the other substrings."
   ]
  },
  {
   "cell_type": "code",
   "execution_count": null,
   "id": "34c4fafc",
   "metadata": {},
   "outputs": [
    {
     "name": "stdout",
     "output_type": "stream",
     "text": [
      "16\n"
     ]
    }
   ],
   "source": [
    "message = 'I like cats and dogs, but I\\'d much rather own a dog.'\n",
    "dog_index = message.find('dog')\n",
    "print(dog_index)"
   ]
  },
  {
   "cell_type": "markdown",
   "id": "e6274041",
   "metadata": {},
   "source": [
    "If you want to find the last appearance of a substring, you can use the *rfind()* function:"
   ]
  },
  {
   "cell_type": "code",
   "execution_count": null,
   "id": "6201c82a",
   "metadata": {},
   "outputs": [
    {
     "name": "stdout",
     "output_type": "stream",
     "text": [
      "48\n"
     ]
    }
   ],
   "source": [
    "message = 'I like cats and dogs, but I\\'d much rather own a dog.'\n",
    "last_dog_index = message.rfind('dog')\n",
    "print(last_dog_index)"
   ]
  },
  {
   "cell_type": "markdown",
   "id": "0bb4adc8",
   "metadata": {},
   "source": [
    "You can use the *replace()* function to replace any substring with another substring. To use the *replace()* function, give the substring you want to replace, and then the substring you want to replace it with. You also need to store the new string, either in the same string variable or in a new variable."
   ]
  },
  {
   "cell_type": "code",
   "execution_count": null,
   "id": "220e50a6",
   "metadata": {},
   "outputs": [
    {
     "name": "stdout",
     "output_type": "stream",
     "text": [
      "I like cats and snakes, but I'd much rather own a snake.\n"
     ]
    }
   ],
   "source": [
    "message = 'I like cats and dogs, but I\\'d much rather own a dog.'\n",
    "message = message.replace('dog', 'snake')\n",
    "print(message)"
   ]
  },
  {
   "cell_type": "markdown",
   "id": "4b6f04c9",
   "metadata": {},
   "source": [
    "## Splitting and joining strings\n",
    "Strings can be split into a set of substrings when they are separated by a repeated character. If a string consists of a simple sentence, the string can be split based on spaces. The *split()* function returns a list of substrings. The *split()* function takes one argument, the character that separates the parts of the string."
   ]
  },
  {
   "cell_type": "code",
   "execution_count": null,
   "id": "84180f27",
   "metadata": {},
   "outputs": [
    {
     "name": "stdout",
     "output_type": "stream",
     "text": [
      "['dog', 'cat', 'tiger', 'mouse', 'bear']\n"
     ]
    }
   ],
   "source": [
    "# From string to list\n",
    "animals = 'dog, cat, tiger, mouse, bear'\n",
    "#print(animals.split(','))\n",
    "print(animals.split(', '))"
   ]
  },
  {
   "cell_type": "code",
   "execution_count": null,
   "id": "ef402dca",
   "metadata": {},
   "outputs": [
    {
     "name": "stdout",
     "output_type": "stream",
     "text": [
      "dog, cat, tiger, mouse, bear\n"
     ]
    }
   ],
   "source": [
    "# From list to string\n",
    "# Don't do this!\n",
    "animals = ['dog', 'cat', 'tiger', 'mouse', 'bear']\n",
    "semicolon_separated = animals[0]\n",
    "for animal in animals[1:]:\n",
    "    semicolon_separated += ', ' + animal\n",
    "print(semicolon_separated)"
   ]
  },
  {
   "cell_type": "code",
   "execution_count": null,
   "id": "747179f7",
   "metadata": {},
   "outputs": [
    {
     "name": "stdout",
     "output_type": "stream",
     "text": [
      "dog, cat, tiger, mouse, bear\n"
     ]
    }
   ],
   "source": [
    "# From list to string\n",
    "# Do this!\n",
    "animals = ['dog', 'cat', 'tiger', 'mouse', 'bear']\n",
    "print(', '.join(animals))"
   ]
  }
 ],
 "metadata": {
  "language_info": {
   "name": "python"
  }
 },
 "nbformat": 4,
 "nbformat_minor": 5
}
