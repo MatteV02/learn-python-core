{
 "cells": [
  {
   "cell_type": "markdown",
   "metadata": {},
   "source": [
    "# Introduction"
   ]
  },
  {
   "cell_type": "markdown",
   "metadata": {},
   "source": [
    "## General Concepts\n",
    "![alt](images/relationships.png)"
   ]
  },
  {
   "cell_type": "markdown",
   "metadata": {},
   "source": [
    "## Containers\n",
    "Containers are data structures holding elements, and that support membership tests. They are data structures that live in memory, and typically hold all their values in memory, too. In Python, some well known examples are:\n",
    "\n",
    "* **list**, deque, …\n",
    "* **set**, frozensets, …\n",
    "* **dict**, defaultdict, OrderedDict, Counter, …\n",
    "* **tuple**, namedtuple, …\n",
    "* **str**\n",
    "\n",
    "Containers are easy to grasp, because you can think of them as real life containers: a box, a cubboard, a house, a ship, etc.\n",
    "\n",
    "Technically, an object is a container when it can be asked whether it contains a certain element. You can perform such membership tests on lists, sets, tuples, dictionaries, strings:"
   ]
  },
  {
   "cell_type": "code",
   "execution_count": 114,
   "metadata": {},
   "outputs": [],
   "source": [
    "assert 1 in [1, 2, 3]      # lists\n",
    "assert 4 not in [1, 2, 3]\n",
    "assert 1 in {1, 2, 3}      # sets\n",
    "assert 4 not in {1, 2, 3}\n",
    "assert 1 in (1, 2, 3)      # tuples\n",
    "assert 4 not in (1, 2, 3)"
   ]
  },
  {
   "cell_type": "code",
   "execution_count": 115,
   "metadata": {},
   "outputs": [],
   "source": [
    "d = {1: 'foo', 2: 'bar', 3: 'qux'}\n",
    "assert 1 in d\n",
    "assert 4 not in d\n",
    "assert 'foo' not in d  # 'foo' is not a _key_ in the dict"
   ]
  },
  {
   "cell_type": "code",
   "execution_count": 116,
   "metadata": {},
   "outputs": [],
   "source": [
    "s = 'foobar'\n",
    "assert 'b' in s\n",
    "assert 'x' not in s\n",
    "assert 'foo' in s  # a string \"contains\" all its substrings"
   ]
  },
  {
   "cell_type": "markdown",
   "metadata": {},
   "source": [
    "## Iterables\n",
    "As said, most containers are also iterable. But many more things are iterable as well. Examples are open files, open sockets, etc. Where containers are typically finite, an iterable may just as well represent an infinite source of data.\n",
    "\n",
    "An iterable is any object, not necessarily a data structure, that can return an iterator (with the purpose of returning all of its elements). That sounds a bit awkward, but there is an important difference between an iterable and an iterator. Take a look at this example:"
   ]
  },
  {
   "cell_type": "code",
   "execution_count": 117,
   "metadata": {
    "tags": []
   },
   "outputs": [
    {
     "name": "stdout",
     "output_type": "stream",
     "text": [
      "1\n",
      "2\n",
      "1\n",
      "<class 'list'>\n",
      "<class 'list_iterator'>\n"
     ]
    }
   ],
   "source": [
    "x = [1, 2, 3]\n",
    "y = iter(x)\n",
    "z = iter(x)\n",
    "print(next(y))\n",
    "print(next(y))\n",
    "print(next(z))\n",
    "print(type(x))\n",
    "print(type(y))"
   ]
  },
  {
   "cell_type": "markdown",
   "metadata": {},
   "source": [
    "Here, x is the iterable, while y and z are two individual instances of an iterator, producing values from the iterable x. Both y and z hold state, as you can see from the example. In this example, x is a data structure (a list), but that is not a requirement. Finally, when you write:"
   ]
  },
  {
   "cell_type": "code",
   "execution_count": 118,
   "metadata": {},
   "outputs": [
    {
     "name": "stdout",
     "output_type": "stream",
     "text": [
      "1\n",
      "2\n",
      "3\n"
     ]
    }
   ],
   "source": [
    "x = [1, 2, 3]\n",
    "for elem in x:\n",
    "    print(elem)"
   ]
  },
  {
   "cell_type": "markdown",
   "metadata": {},
   "source": [
    "![alt](images/iterable-vs-iterator.png)"
   ]
  },
  {
   "cell_type": "markdown",
   "metadata": {},
   "source": [
    "## Iterables and for loops"
   ]
  },
  {
   "cell_type": "code",
   "execution_count": 119,
   "metadata": {},
   "outputs": [
    {
     "name": "stdout",
     "output_type": "stream",
     "text": [
      "H\n",
      "e\n",
      "l\n",
      "l\n",
      "o\n"
     ]
    }
   ],
   "source": [
    "# string\n",
    "string = 'Hello'\n",
    "for c in string:\n",
    "    print(c)"
   ]
  },
  {
   "cell_type": "code",
   "execution_count": 120,
   "metadata": {},
   "outputs": [
    {
     "name": "stdout",
     "output_type": "stream",
     "text": [
      "1\n",
      "2\n",
      "3\n"
     ]
    }
   ],
   "source": [
    "# list\n",
    "numbers = [1, 2, 3]\n",
    "for n in numbers:\n",
    "    print(n)"
   ]
  },
  {
   "cell_type": "code",
   "execution_count": 121,
   "metadata": {},
   "outputs": [
    {
     "name": "stdout",
     "output_type": "stream",
     "text": [
      "1\n",
      "2\n",
      "3\n"
     ]
    }
   ],
   "source": [
    "# tuple\n",
    "numbers = (1, 2, 3)\n",
    "for n in numbers:\n",
    "    print(n)"
   ]
  },
  {
   "cell_type": "code",
   "execution_count": 122,
   "metadata": {},
   "outputs": [
    {
     "name": "stdout",
     "output_type": "stream",
     "text": [
      "1\n",
      "2\n",
      "3\n"
     ]
    }
   ],
   "source": [
    "# set\n",
    "numbers = {1, 2, 3}\n",
    "for n in numbers:\n",
    "    print(n)"
   ]
  },
  {
   "cell_type": "code",
   "execution_count": 123,
   "metadata": {
    "tags": []
   },
   "outputs": [
    {
     "name": "stdout",
     "output_type": "stream",
     "text": [
      "1 a\n",
      "2 b\n",
      "3 c\n"
     ]
    }
   ],
   "source": [
    "# dictionary\n",
    "map = {1 : 'a', 2 : 'b', 3 : 'c'}\n",
    "for k, v in map.items():\n",
    "       print(k, v)"
   ]
  },
  {
   "cell_type": "markdown",
   "metadata": {},
   "source": [
    "## Iterators\n",
    "So what is an iterator then? It's a stateful helper object that will produce the next value when you call next() on it. Any object that has a **\\_\\_next\\_\\_()** method is therefore an iterator. How it produces a value is irrelevant. An iterator can be viewed as a value factory. Each time you ask it for \"the next\" value, it knows how to compute it because it holds internal state.\n",
    "\n",
    "There are countless examples of iterators. All of the itertools functions return iterators. "
   ]
  },
  {
   "cell_type": "code",
   "execution_count": 124,
   "metadata": {},
   "outputs": [
    {
     "name": "stdout",
     "output_type": "stream",
     "text": [
      "13\n",
      "14\n"
     ]
    }
   ],
   "source": [
    "# Some produce infinite sequences:\n",
    "from itertools import count\n",
    "counter = count(start=13)\n",
    "print(next(counter))\n",
    "print(next(counter))"
   ]
  },
  {
   "cell_type": "code",
   "execution_count": 125,
   "metadata": {},
   "outputs": [
    {
     "name": "stdout",
     "output_type": "stream",
     "text": [
      "red\n",
      "white\n",
      "blue\n",
      "red\n"
     ]
    }
   ],
   "source": [
    "# Some produce infinite sequences from finite sequences:\n",
    "from itertools import cycle\n",
    "colors = cycle(['red', 'white', 'blue'])\n",
    "print(next(colors))\n",
    "print(next(colors))\n",
    "print(next(colors))\n",
    "print(next(colors))"
   ]
  },
  {
   "cell_type": "markdown",
   "metadata": {},
   "source": [
    "## Functions acting on iterables\n",
    "\n",
    "* *list, tuple, set, dict*: construct a list, tuple, set, or dictionary from the content of an iterable\n",
    "* *sorted*: return a list of the sorted content of an iterable\n",
    "* *any*: returns True if bool(item) was True for any item in the iterable\n",
    "* *all*: returns True if bool(item) was True for all items in the iterable\n",
    "* *sum*: sum the content of an iterable\n",
    "* *max*: return the largest value in an iterable\n",
    "* *min*: return the smallest value in an iterable\n"
   ]
  },
  {
   "cell_type": "code",
   "execution_count": 126,
   "metadata": {},
   "outputs": [
    {
     "name": "stdout",
     "output_type": "stream",
     "text": [
      "['l', 'a', ' ', 'f', 'i', 'd', 'u', 'c', 'i', 'a', ' ', 'è', ' ', 'b', 'e', 'n', 'e']\n",
      "('i', 'l', ' ', 'c', 'o', 'n', 't', 'r', 'o', 'l', 'l', 'o', ' ', 'è', ' ', 'm', 'e', 'g', 'l', 'i', 'o')\n",
      "['a', 'c', 'i', 'l', 'n', 'o']\n",
      "[(0, 0), (0, 1), (1, 0), (2, 3)]\n",
      "True\n",
      "False\n",
      "6\n",
      "9\n",
      "0\n",
      "o\n",
      "e\n"
     ]
    }
   ],
   "source": [
    "print(list('la fiducia è bene'))\n",
    "print(tuple('il controllo è meglio'))\n",
    "print(sorted('nicola'))\n",
    "print(sorted(((0,1), (2,3), (0, 0), (1,0))))\n",
    "print(any((0, None, [], 1)))\n",
    "print(all([1, (0, 1), True, []]))\n",
    "print(sum([1, 2, 3]))\n",
    "print(max((5, 8, 9, 0)))\n",
    "print(min((5, 8, 9, 0)))\n",
    "print(max('hello'))\n",
    "print(min('hello'))"
   ]
  },
  {
   "cell_type": "markdown",
   "metadata": {},
   "source": [
    "# List"
   ]
  },
  {
   "cell_type": "markdown",
   "metadata": {},
   "source": [
    "**Implementation**: resizable array, **Mutable**: yes, **Insertion order**: yes, **Allows duplicates**: yes\n",
    "\n",
    "Lists are based on resizable arrays. They are mutable and thus can be altered after creation. They can grow and shrink by adding and removing objects as needed. It’s also possible to change any object stored in any slot. Items can be of different types (integer, float, string etc.). A list can also have another list as an item. Lists keep insertion order and have a definite count. The elements in a list are indexed according to a definite sequence starting from 0. A list is created by placing all the items inside square brackets **[ ]**, separated by commas. \n",
    "\n",
    "Since lists are collection of objects, it is good practice to give them a plural name. If each item in your list is a car, call the list 'cars'. This gives you a straightforward way to refer to the entire list ('cars'), and to a single item in the list ('car')."
   ]
  },
  {
   "cell_type": "code",
   "execution_count": 127,
   "metadata": {},
   "outputs": [],
   "source": [
    "# empty list\n",
    "my_list = []\n",
    "\n",
    "# list of integers\n",
    "my_list = [1, 2, 3]\n",
    "\n",
    "# list with mixed data types\n",
    "my_list = [1, 'Hello', 3.4]\n",
    "\n",
    "# nested list \n",
    "my_list = [['mouse', 'cat', 'dog'], [8, 4, 6]]"
   ]
  },
  {
   "cell_type": "markdown",
   "metadata": {},
   "source": [
    "## Accessing elements\n",
    "As seen for all sequences, elements of a list can be accessed via both indexing and slicing.\n",
    "The index must be an integer. Trying to access indices out of valid bounds raises *IndexError*. "
   ]
  },
  {
   "cell_type": "code",
   "execution_count": 128,
   "metadata": {},
   "outputs": [
    {
     "name": "stdout",
     "output_type": "stream",
     "text": [
      "['s', 'o', 'u', 'r', 'c', 'e', ' ', 'c', 'o', 'd', 'e']\n",
      "s\n",
      "c\n",
      "a\n",
      "5\n"
     ]
    }
   ],
   "source": [
    "my_list = list('source code')\n",
    "print(my_list)\n",
    "\n",
    "# Indexing\n",
    "print(my_list[0])\n",
    "print(my_list[4])\n",
    "\n",
    "# Nested indexing\n",
    "my_list = ['Happy', [2, 0, 1, 5]]\n",
    "print(my_list[0][1])\n",
    "print(my_list[1][3])\n",
    "\n",
    "# print(my_list[9999])\n",
    "# IndexError: list index out of range\n",
    "\n",
    "# print(my_list[4.0])\n",
    "# TypeError: list indices must be integers or slices, not float"
   ]
  },
  {
   "cell_type": "code",
   "execution_count": 129,
   "metadata": {},
   "outputs": [
    {
     "name": "stdout",
     "output_type": "stream",
     "text": [
      "['s', 'o', 'u', 'r', 'c', 'e', ' ', 'c', 'o', 'd', 'e']\n",
      "e\n",
      "d\n",
      "o\n"
     ]
    }
   ],
   "source": [
    "my_list = list('source code')\n",
    "\n",
    "# Negative indexing\n",
    "print(my_list)\n",
    "print(my_list[-1])\n",
    "print(my_list[-2])\n",
    "print(my_list[-3])"
   ]
  },
  {
   "cell_type": "code",
   "execution_count": 130,
   "metadata": {},
   "outputs": [
    {
     "name": "stdout",
     "output_type": "stream",
     "text": [
      "['s', 'o', 'u', 'r', 'c', 'e', ' ', 'c', 'o', 'd', 'e']\n",
      "['s', 'o', 'u']\n",
      "['s', 'o', 'u', 'r', 'c', 'e', ' ', 'c', 'o', 'd']\n",
      "['e', ' ', 'c', 'o', 'd', 'e']\n",
      "['s', 'o', 'u', 'r', 'c', 'e', ' ', 'c', 'o', 'd', 'e']\n"
     ]
    }
   ],
   "source": [
    "my_list = list('source code')\n",
    "print(my_list)\n",
    "\n",
    "# Slicing\n",
    "# elements from beginning to 4th (excluded)\n",
    "print(my_list[0:3])\n",
    "\n",
    "# elements from beginning to the last one (excluded)\n",
    "print(my_list[:-1])\n",
    "\n",
    "# elements from 6th to end\n",
    "print(my_list[5:])\n",
    "\n",
    "# elements from beginning to end (shallow copy)\n",
    "print(my_list[:])"
   ]
  },
  {
   "cell_type": "markdown",
   "metadata": {},
   "source": [
    "## Changing elements\n",
    "Lists are mutable, meaning their elements can be changed unlike for strings or tuples. We can use the assignment operator (=) to change an item or a range of items. It is possible to change entire slices eventually."
   ]
  },
  {
   "cell_type": "code",
   "execution_count": 131,
   "metadata": {},
   "outputs": [
    {
     "name": "stdout",
     "output_type": "stream",
     "text": [
      "[2, 4, 6, 8]\n",
      "[1, 4, 6, 8]\n",
      "[1, 3, 5, 7, 8]\n"
     ]
    }
   ],
   "source": [
    "my_list = [2, 4, 6, 8]\n",
    "print(my_list)\n",
    "\n",
    "# change the 1st item    \n",
    "my_list[0] = 1            \n",
    "print(my_list)\n",
    "\n",
    "# replace a slice with another slice (even of different lenght)\n",
    "my_list[1:3] = [3, 5, 7]  \n",
    "print(my_list) "
   ]
  },
  {
   "cell_type": "markdown",
   "metadata": {},
   "source": [
    "## Adding elements\n",
    "We can add one item at the end of a list using the *append()* method. We can add one item in a specific position using the *insert()* method. We can add a (flat) group of items using the *extend()* method."
   ]
  },
  {
   "cell_type": "code",
   "execution_count": 132,
   "metadata": {},
   "outputs": [
    {
     "name": "stdout",
     "output_type": "stream",
     "text": [
      "['hello']\n",
      "['hello', [9, 11]]\n",
      "[1, 'hello', [9, 11]]\n",
      "[1, 'hello', [9, 11], 17, 19]\n",
      "[1, 2, 3, 1, 'hello', [9, 11], 17, 19]\n"
     ]
    }
   ],
   "source": [
    "# Appending and Extending lists\n",
    "my_list = []\n",
    "my_list.append('hello')\n",
    "print(my_list)\n",
    "my_list.append([9, 11])\n",
    "print(my_list)\n",
    "my_list.insert(0, 1)\n",
    "print(my_list)\n",
    "my_list.extend([17, 19])\n",
    "print(my_list)\n",
    "# extending in arbitrary positions\n",
    "my_list[0:0] = [1,2,3]\n",
    "print(my_list)"
   ]
  },
  {
   "cell_type": "markdown",
   "metadata": {},
   "source": [
    "## Removing elements\n",
    "We can delete one or more items from a list using the keyword *del*. *del* can even delete the list entirely."
   ]
  },
  {
   "cell_type": "code",
   "execution_count": 133,
   "metadata": {},
   "outputs": [
    {
     "name": "stdout",
     "output_type": "stream",
     "text": [
      "['s', 'u', 'r', 'c', 'e', ' ', 'c', 'o', 'd', 'e']\n",
      "['c', 'o', 'd', 'e']\n"
     ]
    }
   ],
   "source": [
    "# Deleting list items\n",
    "my_list = list('source code')\n",
    "\n",
    "# delete one item\n",
    "del my_list[1]\n",
    "print(my_list)\n",
    "\n",
    "# delete multiple items\n",
    "del my_list[0:6]\n",
    "print(my_list)\n",
    "\n",
    "# delete entire list\n",
    "del my_list\n",
    "# print(my_list)\n",
    "# NameError: name 'my_list' is not defined\n"
   ]
  },
  {
   "cell_type": "markdown",
   "metadata": {},
   "source": [
    "We can also use the *remove()* method to remove the given item or *pop()* method to remove an item at the given index. The *pop()* method removes and returns the last item if an index is not provided. Useful for implementing stacks or queues. We can also use the clear() method to empty a list."
   ]
  },
  {
   "cell_type": "code",
   "execution_count": 134,
   "metadata": {},
   "outputs": [
    {
     "name": "stdout",
     "output_type": "stream",
     "text": [
      "['s', 'o', 'u', 'r', 'c', 'e', ' ', 'c', 'o', 'e']\n",
      "o\n",
      "['s', 'u', 'r', 'c', 'e', ' ', 'c', 'o', 'e']\n",
      "e\n",
      "['s', 'u', 'r', 'c', 'e', ' ', 'c', 'o']\n",
      "[]\n"
     ]
    }
   ],
   "source": [
    "my_list = list('source code')\n",
    "\n",
    "my_list.remove('d')\n",
    "print(my_list)\n",
    "\n",
    "print(my_list.pop(1))\n",
    "print(my_list)\n",
    "\n",
    "print(my_list.pop())\n",
    "print(my_list)\n",
    "\n",
    "my_list.clear()\n",
    "print(my_list)"
   ]
  },
  {
   "cell_type": "markdown",
   "metadata": {},
   "source": [
    "## Sorting\n",
    "We can also sort a list, in either order."
   ]
  },
  {
   "cell_type": "code",
   "execution_count": 135,
   "metadata": {
    "collapsed": false,
    "jupyter": {
     "outputs_hidden": false
    }
   },
   "outputs": [
    {
     "name": "stdout",
     "output_type": "stream",
     "text": [
      "['aaron', 'bernie', 'cody', 'lucy']\n",
      "['lucy', 'cody', 'bernie', 'aaron']\n",
      "['lucy', 'cody', 'aaron', 'bernie']\n",
      "['bernie', 'aaron', 'cody', 'lucy']\n"
     ]
    }
   ],
   "source": [
    "students = ['lucy', 'bernie', 'aaron', 'cody']\n",
    "students.sort()\n",
    "print(students)\n",
    "\n",
    "# reverse sort\n",
    "students.sort(reverse=True)\n",
    "print(students)\n",
    "\n",
    "# sorts the list using the last letter of the string\n",
    "students.sort(key=lambda x: x[-1], reverse=True)\n",
    "print(students)\n",
    "\n",
    "# reverse sort\n",
    "students.reverse()\n",
    "print(students)"
   ]
  },
  {
   "cell_type": "markdown",
   "metadata": {},
   "source": [
    "Keep in mind that *sort()* modifies the list. You can not recover the original order. If you want to display a list in sorted order, while preserving the original order, you can use the *sorted()* function. "
   ]
  },
  {
   "cell_type": "code",
   "execution_count": 136,
   "metadata": {},
   "outputs": [
    {
     "name": "stdout",
     "output_type": "stream",
     "text": [
      "['cody', 'aaron', 'bernice']\n",
      "['bernice', 'aaron', 'cody']\n"
     ]
    }
   ],
   "source": [
    "students = ['bernice', 'aaron', 'cody']\n",
    "print(sorted(students, reverse=True, key=lambda x : x[-1]))\n",
    "print(students)"
   ]
  },
  {
   "cell_type": "markdown",
   "metadata": {},
   "source": [
    "## Other List operations"
   ]
  },
  {
   "cell_type": "code",
   "execution_count": 137,
   "metadata": {
    "tags": []
   },
   "outputs": [
    {
     "name": "stdout",
     "output_type": "stream",
     "text": [
      "['a', 'b', 'c', 'a', 'b', 'c']\n"
     ]
    }
   ],
   "source": [
    "my_list = list('abc')\n",
    "print(my_list + ['a', 'b', 'c'])"
   ]
  },
  {
   "cell_type": "code",
   "execution_count": 138,
   "metadata": {},
   "outputs": [
    {
     "name": "stdout",
     "output_type": "stream",
     "text": [
      "['a', 'b', 'c', 'a', 'b', 'c', 'a', 'b', 'c']\n"
     ]
    }
   ],
   "source": [
    "my_list = list('abc')\n",
    "print(my_list * 3)"
   ]
  },
  {
   "cell_type": "code",
   "execution_count": 139,
   "metadata": {},
   "outputs": [
    {
     "name": "stdout",
     "output_type": "stream",
     "text": [
      "3\n"
     ]
    }
   ],
   "source": [
    "my_list = list('abc')\n",
    "# length\n",
    "print(len(my_list))"
   ]
  },
  {
   "cell_type": "code",
   "execution_count": 140,
   "metadata": {},
   "outputs": [
    {
     "name": "stdout",
     "output_type": "stream",
     "text": [
      "True\n",
      "False\n"
     ]
    }
   ],
   "source": [
    "# membership\n",
    "print('a' in my_list)\n",
    "print('a' not in my_list)"
   ]
  },
  {
   "cell_type": "code",
   "execution_count": 141,
   "metadata": {
    "tags": []
   },
   "outputs": [
    {
     "name": "stdout",
     "output_type": "stream",
     "text": [
      "a\n",
      "b\n",
      "c\n",
      "a\n",
      "b\n",
      "c\n"
     ]
    }
   ],
   "source": [
    "# iteration (for-each)\n",
    "for i in my_list:\n",
    "    print(i)\n",
    "    \n",
    "# iteration by index\n",
    "length = len(my_list)\n",
    "for i in range(length):\n",
    "    print(my_list[i])"
   ]
  },
  {
   "cell_type": "markdown",
   "metadata": {},
   "source": [
    "# Tuple"
   ]
  },
  {
   "cell_type": "markdown",
   "metadata": {},
   "source": [
    "**Implementation**: records, **Mutable**: no, mutable items, **Insertion order**: yes, **Allows duplicates**: yes\n",
    "\n",
    "A tuple is a collection of objects much like a list. The sequence of values stored in a tuple can be of any type, and they are indexed by integers. Tuples are immutable. A tuple cannot change once it has been assigned. Eventually, we can change its internal items, if they are mutable (e.g., a list contained in a tuple). A tuple is created by placing all the items (elements) inside parentheses (), separated by commas. The parentheses are optional, however, it is a good practice to use them. "
   ]
  },
  {
   "cell_type": "code",
   "execution_count": 142,
   "metadata": {},
   "outputs": [
    {
     "name": "stdout",
     "output_type": "stream",
     "text": [
      "()\n",
      "(1, 2, 3, 3)\n",
      "(1, 'Hello', 3.4)\n",
      "('mouse', [8, 4, 6], (1, 2, 3))\n"
     ]
    }
   ],
   "source": [
    "# empty tuple\n",
    "my_tuple = ()\n",
    "print(my_tuple)\n",
    "\n",
    "# tuple with integers\n",
    "my_tuple = (1, 2, 3, 3)\n",
    "print(my_tuple)\n",
    "\n",
    "# tuple with mixed datatypes\n",
    "my_tuple = (1, 'Hello', 3.4)\n",
    "print(my_tuple)\n",
    "\n",
    "# nested tuple\n",
    "my_tuple = ('mouse', [8, 4, 6], (1, 2, 3))\n",
    "print(my_tuple)\n"
   ]
  },
  {
   "cell_type": "markdown",
   "metadata": {},
   "source": [
    "Creating a tuple with one element is a bit tricky. Having one element within parentheses is not enough. A trailing comma to indicate that it is a tuple is required."
   ]
  },
  {
   "cell_type": "code",
   "execution_count": 143,
   "metadata": {},
   "outputs": [
    {
     "name": "stdout",
     "output_type": "stream",
     "text": [
      "<class 'str'>\n",
      "<class 'tuple'>\n",
      "<class 'tuple'>\n"
     ]
    }
   ],
   "source": [
    "# This actually creates a string\n",
    "my_tuple = ('hello')\n",
    "print(type(my_tuple))\n",
    "\n",
    "# Creating a tuple having one element\n",
    "my_tuple = ('hello',)\n",
    "print(type(my_tuple))\n",
    "\n",
    "# Parentheses are optional\n",
    "my_tuple = 'hello',\n",
    "print(type(my_tuple))\n"
   ]
  },
  {
   "cell_type": "markdown",
   "metadata": {},
   "source": [
    "## Accessing elements\n",
    "As seen for all sequences, elements of a tuple can be accessed via both indexing and slicing.\n",
    "The index must be an integer. Trying to access indices out of valid bounds raises *IndexError*. "
   ]
  },
  {
   "cell_type": "code",
   "execution_count": 144,
   "metadata": {},
   "outputs": [
    {
     "name": "stdout",
     "output_type": "stream",
     "text": [
      "s\n",
      "e\n",
      "e\n",
      "d\n",
      "('s', 'o', 'u', 'r', 'c', 'e')\n",
      "('c', 'o', 'd', 'e')\n"
     ]
    }
   ],
   "source": [
    "my_tuple = tuple('source code')\n",
    "\n",
    "# indexing\n",
    "print(my_tuple[0])\n",
    "print(my_tuple[5])\n",
    "\n",
    "# negative indexing\n",
    "print(my_tuple[-1])\n",
    "print(my_tuple[-2])\n",
    "\n",
    "# slicing\n",
    "print(my_tuple[:6]) \n",
    "print(my_tuple[-4:]) "
   ]
  },
  {
   "cell_type": "markdown",
   "metadata": {},
   "source": [
    "## Changing elements\n",
    "Unlike lists, tuples are immutable. Elements of a tuple cannot be changed once they have been assigned. \n",
    "However, if the element is itself a mutable data type like list, its nested items can be changed.\n",
    "We can also assign a tuple to different values (reassignment).\n"
   ]
  },
  {
   "cell_type": "code",
   "execution_count": 145,
   "metadata": {},
   "outputs": [
    {
     "name": "stdout",
     "output_type": "stream",
     "text": [
      "(4, 2, 3, [6, 5])\n",
      "(4, 2, 3, [5, 5, 5])\n",
      "('n', 'i', 'c', 'o', 'l', 'a')\n"
     ]
    }
   ],
   "source": [
    "my_tuple = (4, 2, 3, [6, 5])\n",
    "print(my_tuple)\n",
    "\n",
    "# my_tuple[1] = 9\n",
    "# TypeError: 'tuple' object does not support item assignment\n",
    "\n",
    "# However…\n",
    "my_tuple[3][0] = 5\n",
    "my_tuple[3].append(5)\n",
    "print(my_tuple)\n",
    "\n",
    "# Tuples can provide the illusion of mutability by being re-assigned (as seen for strings)\n",
    "my_tuple = ('n', 'i', 'c', 'o', 'l', 'a')\n",
    "print(my_tuple)"
   ]
  },
  {
   "cell_type": "markdown",
   "metadata": {},
   "source": [
    "We cannot change the elements in a tuple. It means that we cannot add or remove items from a tuple. Deleting a tuple entirely, however, is possible using the keyword *del*."
   ]
  },
  {
   "cell_type": "code",
   "execution_count": 146,
   "metadata": {},
   "outputs": [],
   "source": [
    "my_tuple = ('n', 'i', 'c', 'o', 'l', 'a')\n",
    "\n",
    "# del my_tuple[3]\n",
    "# TypeError: 'tuple' object doesn't support item deletion\n",
    "\n",
    "del my_tuple\n",
    "\n",
    "# print(my_tuple)\n",
    "# NameError: name 'my_tuple' is not defined\n"
   ]
  },
  {
   "cell_type": "markdown",
   "metadata": {},
   "source": [
    "## Other Tuple operations"
   ]
  },
  {
   "cell_type": "code",
   "execution_count": 147,
   "metadata": {
    "tags": []
   },
   "outputs": [
    {
     "name": "stdout",
     "output_type": "stream",
     "text": [
      "('a', 'b', 'c', 'a', 'b', 'c')\n"
     ]
    }
   ],
   "source": [
    "my_tuple = tuple('abc')\n",
    "print(my_tuple + ('a', 'b', 'c'))"
   ]
  },
  {
   "cell_type": "code",
   "execution_count": 148,
   "metadata": {},
   "outputs": [
    {
     "name": "stdout",
     "output_type": "stream",
     "text": [
      "('a', 'b', 'c', 'a', 'b', 'c', 'a', 'b', 'c')\n"
     ]
    }
   ],
   "source": [
    "my_tuple = tuple('abc')\n",
    "print(my_tuple * 3)"
   ]
  },
  {
   "cell_type": "code",
   "execution_count": 149,
   "metadata": {},
   "outputs": [
    {
     "name": "stdout",
     "output_type": "stream",
     "text": [
      "3\n"
     ]
    }
   ],
   "source": [
    "my_tuple = tuple('abc')\n",
    "# length\n",
    "print(len(my_tuple))"
   ]
  },
  {
   "cell_type": "code",
   "execution_count": 150,
   "metadata": {},
   "outputs": [
    {
     "name": "stdout",
     "output_type": "stream",
     "text": [
      "True\n",
      "False\n"
     ]
    }
   ],
   "source": [
    "# membership\n",
    "print('a' in my_tuple)\n",
    "print('a' not in my_tuple)"
   ]
  },
  {
   "cell_type": "code",
   "execution_count": 151,
   "metadata": {
    "tags": []
   },
   "outputs": [
    {
     "name": "stdout",
     "output_type": "stream",
     "text": [
      "a\n",
      "b\n",
      "c\n",
      "0 -> a\n",
      "1 -> b\n",
      "2 -> c\n"
     ]
    }
   ],
   "source": [
    "# iteration (for-each)\n",
    "for i in my_tuple:\n",
    "    print(i)\n",
    "    \n",
    "# iteration by index\n",
    "length = len(my_tuple)\n",
    "for i in range(length):\n",
    "    print('{} -> {}'.format(i, my_tuple[i]))"
   ]
  },
  {
   "cell_type": "markdown",
   "metadata": {},
   "source": [
    "## Advantages of Tuple over List"
   ]
  },
  {
   "cell_type": "markdown",
   "metadata": {},
   "source": [
    "Since tuples are quite similar to lists, both of them are used in similar situations. However, there are certain advantages of implementing a tuple over a list:\n",
    "\n",
    "* Conventionally, use tuples for heterogeneous data types and lists for homogeneous data types.\n",
    "* Since tuples are immutable, iterating through tuples is faster. \n",
    "* If you have data that doesn't change, implementing it as a tuple guarantees write-protection.\n",
    "* Tuples containing immutable items can be used as keys for a dictionaries (requiring immutability). Most python objects (booleans, integers, floats, strings, and tuples) are immutable. Lists, sets, and dictionaries are mutable."
   ]
  },
  {
   "cell_type": "code",
   "execution_count": 152,
   "metadata": {},
   "outputs": [],
   "source": [
    "d = { (0, 3, 0, 1) : 'test_01'}\n",
    "\n",
    "d = { (1, 2.3, 'a', True) : 'test_01'}\n",
    "\n",
    "# d = { (1, 2.3, 'a', []) : 'test_01'}\n",
    "# TypeError: unhashable type: 'list'\n",
    "\n",
    "# d = { {1, 2, 3} : 'test_01'}\n",
    "# TypeError: unhashable type: 'set'\n",
    "\n",
    "# d = { {1 : 'a'} : 'test_01'}\n",
    "# TypeError: unhashable type: 'dict'"
   ]
  },
  {
   "cell_type": "markdown",
   "metadata": {},
   "source": [
    "# Set"
   ]
  },
  {
   "cell_type": "markdown",
   "metadata": {},
   "source": [
    "**Implementation**: hash table, **Mutable**: yes, **Insertion order**: no, **Allows duplicates**: no\n",
    "\n",
    "A set is an unordered collection data type, mutable, which do not allow duplicate elements. Set items must be immutable (e.g., lists, sets, dictionaries are not allowed). \n",
    "\n",
    "The major advantage of using a set, as opposed to a list, is that it has a highly optimized method for checking whether a specific element is contained in the set. Sets are based on a data structure known as a hash table. Because of this, sets do not retain insertion order and cannot be accessed by index.\n",
    "\n",
    "A set is created by placing all the items inside curly braces {}, separated by comma, or by using the built-in *set()* function. It can have any number of items and they may be of different types as long as they are immutable."
   ]
  },
  {
   "cell_type": "code",
   "execution_count": 153,
   "metadata": {},
   "outputs": [
    {
     "name": "stdout",
     "output_type": "stream",
     "text": [
      "{8, 1, 4}\n",
      "{1.0, (1, 2, 3), 'Hello'}\n",
      "{1, 2, 3}\n"
     ]
    }
   ],
   "source": [
    "# set of integers\n",
    "my_set = {1, 4, 8, 4}\n",
    "print(my_set)\n",
    "\n",
    "# set of mixed types\n",
    "my_set = {1.0, 'Hello', (1, 2, 3)}\n",
    "print(my_set)\n",
    "\n",
    "# including mutable items\n",
    "# my_set = {1, 2, [3, 4]}\n",
    "# TypeError: unhashable type: 'list'\n",
    "\n",
    "# set from list\n",
    "my_set = set([1, 2, 3, 2])\n",
    "print(my_set)"
   ]
  },
  {
   "cell_type": "code",
   "execution_count": 154,
   "metadata": {},
   "outputs": [
    {
     "name": "stdout",
     "output_type": "stream",
     "text": [
      "<class 'dict'>\n",
      "<class 'set'>\n"
     ]
    }
   ],
   "source": [
    "# Distinguish set and dictionary while creating empty sets\n",
    "\n",
    "# initialize a with {}\n",
    "a = {}\n",
    "print(type(a))\n",
    "\n",
    "# initialize a with set()\n",
    "a = set()\n",
    "print(type(a))"
   ]
  },
  {
   "cell_type": "markdown",
   "metadata": {},
   "source": [
    "## Accessing elements\n",
    "Since Sets are unordered, indexing has no meaning. We cannot access or change an element of a set using indexing or slicing. The Set data type does not support it."
   ]
  },
  {
   "cell_type": "code",
   "execution_count": 155,
   "metadata": {},
   "outputs": [
    {
     "name": "stdout",
     "output_type": "stream",
     "text": [
      "99.2\n",
      "1.4\n",
      "3.6\n",
      "77.6\n"
     ]
    }
   ],
   "source": [
    "my_set = {99.2, 1.4, 3.6, 77.6}\n",
    "for item in my_set:\n",
    "    print(item)\n",
    "\n",
    "# my_set[0] = 2\n",
    "# TypeError: 'set' object does not support item assignment"
   ]
  },
  {
   "cell_type": "markdown",
   "metadata": {},
   "source": [
    "## Adding elements\n",
    "Sets are mutable. We can add a single element using the *add()* method, and multiple elements using the *update()* method. The update() method can take tuples, lists, strings or other sets as its argument. In all cases, duplicates are avoided."
   ]
  },
  {
   "cell_type": "code",
   "execution_count": 156,
   "metadata": {},
   "outputs": [
    {
     "name": "stdout",
     "output_type": "stream",
     "text": [
      "{1, 2}\n",
      "{1, 2, 3}\n",
      "{1, 2, 3, 4}\n"
     ]
    }
   ],
   "source": [
    "# initialize my_set\n",
    "my_set = {1, 2}\n",
    "print(my_set)\n",
    "\n",
    "# add an element\n",
    "my_set.add(3)\n",
    "print(my_set)\n",
    "\n",
    "# add multiple elements\n",
    "my_set.update([2, 3, 4])\n",
    "print(my_set)"
   ]
  },
  {
   "cell_type": "markdown",
   "metadata": {},
   "source": [
    "## Removing elements\n",
    "A particular item can be removed from a set using the methods *discard()* and *remove()*. The only difference between the two is that the *discard()* function don't do anything if the element is not present in the set. On the other hand, the *remove()* function will raise an exception in such a case.\n"
   ]
  },
  {
   "cell_type": "code",
   "execution_count": 157,
   "metadata": {},
   "outputs": [
    {
     "name": "stdout",
     "output_type": "stream",
     "text": [
      "{'french', 'italian', 'english', 'german', 'chinese', 'spanish'}\n",
      "{'italian', 'english', 'chinese', 'spanish'}\n",
      "{'italian', 'english', 'chinese', 'spanish'}\n"
     ]
    }
   ],
   "source": [
    "# initialize my_set\n",
    "my_set = {'italian', 'english', 'chinese', 'spanish', 'german', 'french'}\n",
    "print(my_set)\n",
    "\n",
    "# remove an element (present)\n",
    "my_set.discard('german')\n",
    "my_set.remove('french')\n",
    "print(my_set)\n",
    "\n",
    "# remove an element (not present)\n",
    "my_set.discard('german')\n",
    "#my_set.remove('french')\n",
    "# KeyError: 'french'\n",
    "print(my_set)"
   ]
  },
  {
   "cell_type": "code",
   "execution_count": 158,
   "metadata": {},
   "outputs": [
    {
     "name": "stdout",
     "output_type": "stream",
     "text": [
      "[warn] missing key 'french'\n"
     ]
    }
   ],
   "source": [
    "# managing eventual exceptions\n",
    "my_set = {'italian', 'english', 'chinese', 'spanish', 'german', 'french'}\n",
    "try:\n",
    "    my_set.remove('french')\n",
    "    my_set.remove('french')\n",
    "    my_set.remove('french')\n",
    "except KeyError as e:\n",
    "    print('[warn] missing key', e)"
   ]
  },
  {
   "cell_type": "markdown",
   "metadata": {},
   "source": [
    "## Other Set operations\n",
    "Sets are mostly used for:\n",
    "\n",
    "* removing duplicates from lists\n",
    "* checking membership efficiently\n",
    "* operations on ensembles (union, intersection, difference and symmetric difference, ...)"
   ]
  },
  {
   "cell_type": "code",
   "execution_count": 159,
   "metadata": {},
   "outputs": [
    {
     "name": "stdout",
     "output_type": "stream",
     "text": [
      "[1, 2, 3, 4, 1, 2, 3]\n",
      "[1, 2, 3, 4]\n"
     ]
    }
   ],
   "source": [
    "# removing duplicates\n",
    "my_list = [1, 2, 3, 4, 1, 2, 3]\n",
    "print(my_list)\n",
    "my_list = list(set(my_list))\n",
    "print(my_list)"
   ]
  },
  {
   "cell_type": "code",
   "execution_count": 160,
   "metadata": {},
   "outputs": [
    {
     "name": "stdout",
     "output_type": "stream",
     "text": [
      "True\n",
      "False\n"
     ]
    }
   ],
   "source": [
    "# checking membership efficiently\n",
    "my_set = {1, 2, 3, 4, 5}\n",
    "print(1 in my_set)\n",
    "print(6 in my_set)"
   ]
  },
  {
   "cell_type": "markdown",
   "metadata": {},
   "source": [
    "Sets are significantly faster than lists when it comes to determining if an object is present in the set (as in x in s), but are slower than lists when it comes to iterating over their contents."
   ]
  },
  {
   "cell_type": "code",
   "execution_count": 8,
   "metadata": {},
   "outputs": [
    {
     "name": "stdout",
     "output_type": "stream",
     "text": [
      "t=0.079s\n",
      "t=0.080s\n",
      "t=0.071s\n",
      "t=0.171s\n"
     ]
    }
   ],
   "source": [
    "# search performance in lists depends on elements position\n",
    "# search performance in sets DO NOT depend on elements position\n",
    "\n",
    "import timeit\n",
    "t = timeit.timeit(lambda: 'a' in {'a', 'b', 'c', 'd', 'e', 'f', 'g', 'h', 'i'}, number=1000000)\n",
    "print('t={:5.3f}s'.format(t))\n",
    "\n",
    "t = timeit.timeit(lambda: 'i' in {'a', 'b', 'c', 'd', 'e', 'f', 'g', 'h', 'i'}, number=1000000)\n",
    "print('t={:5.3f}s'.format(t))\n",
    "\n",
    "t = timeit.timeit(lambda: 'a' in ['a', 'b', 'c', 'd', 'e', 'f', 'g', 'h', 'i'], number=1000000)\n",
    "print('t={:5.3f}s'.format(t))\n",
    "\n",
    "t = timeit.timeit(lambda: 'i' in ['a', 'b', 'c', 'd', 'e', 'f', 'g', 'h', 'i'], number=1000000)\n",
    "print('t={:5.3f}s'.format(t))"
   ]
  },
  {
   "cell_type": "code",
   "execution_count": 5,
   "metadata": {},
   "outputs": [
    {
     "name": "stdout",
     "output_type": "stream",
     "text": [
      "t=0.011s\n",
      "t=0.551s\n"
     ]
    }
   ],
   "source": [
    "# search performance in lists is linear to the number of elements\n",
    "# search performance in sets DOES NOT DEPEND ON the number of elements\n",
    "\n",
    "import timeit\n",
    "import random\n",
    "\n",
    "items = 10000\n",
    "test_list = list(range(items))\n",
    "test_set = set(range(items))\n",
    "\n",
    "t = timeit.timeit(lambda: random.randint(0, items - 1) in test_set, number=10000)\n",
    "print('t={:5.3f}s'.format(t))\n",
    "\n",
    "t = timeit.timeit(lambda: random.randint(0, items - 1) in test_list, number=10000)\n",
    "print('t={:5.3f}s'.format(t))"
   ]
  },
  {
   "cell_type": "code",
   "execution_count": 163,
   "metadata": {},
   "outputs": [
    {
     "name": "stdout",
     "output_type": "stream",
     "text": [
      "False\n",
      "False\n",
      "{1, 2, 3, 4, 5, 6, 7, 8}\n",
      "{5, 6}\n",
      "{1, 2, 3, 4}\n",
      "{1, 2, 3, 4, 7, 8}\n"
     ]
    },
    {
     "data": {
      "text/plain": [
       "<matplotlib_venn._common.VennDiagram at 0x7feb84db98d0>"
      ]
     },
     "execution_count": 163,
     "metadata": {},
     "output_type": "execute_result"
    },
    {
     "data": {
      "image/png": "[encoded data removed]",
      "text/plain": [
       "<Figure size 640x480 with 1 Axes>"
      ]
     },
     "metadata": {},
     "output_type": "display_data"
    }
   ],
   "source": [
    "# operations on ensembles\n",
    "a = {1, 2, 3, 4, 5, 6}\n",
    "b = {5, 6, 7, 8}\n",
    "\n",
    "print(a.issubset(b))\n",
    "print(a.isdisjoint(b))\n",
    "print(a.union(b))\n",
    "print(a.intersection(b)) \n",
    "print(a.difference(b)) \n",
    "print(a.symmetric_difference(b)) \n",
    "\n",
    "#pip install matplotlib-venn\n",
    "from matplotlib_venn import venn2\n",
    "venn2([a, b])"
   ]
  },
  {
   "cell_type": "markdown",
   "metadata": {},
   "source": [
    "## Frozenset\n",
    "*Frozenset has the characteristics of a set, but its elements cannot be changed once assigned*. While tuples are immutable lists, frozensets are immutable sets. Sets being mutable are unhashable, so they can't be used as dictionary keys. On the other hand, frozensets being immutable and hashable can be used as keys into a dictionary. Frozensets can be created using the *frozenset()* function."
   ]
  },
  {
   "cell_type": "code",
   "execution_count": 164,
   "metadata": {},
   "outputs": [
    {
     "name": "stdout",
     "output_type": "stream",
     "text": [
      "False\n",
      "False\n",
      "frozenset({1, 2, 3, 4, 5, 6})\n",
      "frozenset({3, 4})\n",
      "frozenset({1, 2})\n",
      "frozenset({1, 2, 5, 6})\n"
     ]
    }
   ],
   "source": [
    "a = frozenset([1, 2, 3, 4])\n",
    "b = frozenset([3, 4, 5, 6])\n",
    "\n",
    "# ensemble-related methods work fine\n",
    "print(a.issubset(b))\n",
    "print(a.isdisjoint(b))\n",
    "print(a.union(b))\n",
    "print(a.intersection(b)) \n",
    "print(a.difference(b)) \n",
    "print(a.symmetric_difference(b)) \n",
    "\n",
    "# mutability-related methods fail\n",
    "# s1.add(5)\n",
    "# AttributeError: 'frozenset' object has no attribute 'add'\n",
    "\n",
    "# s1.remove(3)\n",
    "# AttributeError: 'frozenset' object has no attribute 'remove'"
   ]
  },
  {
   "cell_type": "markdown",
   "metadata": {},
   "source": [
    "# Dictionary"
   ]
  },
  {
   "cell_type": "markdown",
   "metadata": {},
   "source": [
    "**Implementation**: hash table, **Mutable**: yes, **Insertion order**: yes, **Allows duplicates**: no in keys, yes in values\n",
    "\n",
    "A dictionary is an ordered collection of *key:value* pairs. Keys and values can be any object. Keys must be unique and immutable, while values can be mutable objects. Dictionaries can have any number of pairs. The order in which pairs are added to a dictionary is maintained (since Python 3.7)."
   ]
  },
  {
   "cell_type": "code",
   "execution_count": 165,
   "metadata": {},
   "outputs": [
    {
     "name": "stdout",
     "output_type": "stream",
     "text": [
      "{1: 'Geeks', 2: 'For', 3: 'Geeks'}\n",
      "{'name': 'Geeks', 1: [1, 2, 3, 4]}\n",
      "{'name': 'Mario', 'last_name': 'Rossi', 'age': 33}\n"
     ]
    }
   ],
   "source": [
    "# Creating a Dictionary with Integer Keys \n",
    "dict = {\n",
    "    1: 'Geeks', \n",
    "    2: 'For', \n",
    "    3: 'Geeks'\n",
    "}  \n",
    "print(dict)\n",
    " \n",
    "# Creating a Dictionary with Mixed keys \n",
    "dict = {\n",
    "    'name': 'Geeks', \n",
    "    1: [1, 2, 3, 4]\n",
    "} \n",
    "print(dict)\n",
    "\n",
    "# Creating a Dictionary representing a Person \n",
    "dict = {\n",
    "    'name': 'Mario', \n",
    "    'last_name': 'Rossi',\n",
    "    'age' : 33,\n",
    "} \n",
    "print(dict)"
   ]
  },
  {
   "cell_type": "markdown",
   "metadata": {},
   "source": [
    "## Accessing elements\n",
    "While indexing is used with other data types to access values, a dictionary uses keys. Keys can be used either inside square brackets *[]* or with the *get()* method.\n",
    "If we use the square brackets *[]*, KeyError is raised in case a key is not found. On the other hand, the *get()* method returns None if the key is not found."
   ]
  },
  {
   "cell_type": "code",
   "execution_count": 166,
   "metadata": {},
   "outputs": [
    {
     "name": "stdout",
     "output_type": "stream",
     "text": [
      "Jack\n",
      "Jack\n",
      "None\n",
      "KeyError: 'address'\n"
     ]
    }
   ],
   "source": [
    "# get vs [] for retrieving elements\n",
    "my_dict = {'name': 'Jack', 'age': 26}\n",
    "\n",
    "print(my_dict.get('name'))\n",
    "print(my_dict['name'])\n",
    "\n",
    "print(my_dict.get('address'))\n",
    "try:\n",
    "    print(my_dict['address'])\n",
    "except KeyError as e:\n",
    "    print('KeyError: {}'.format(e))"
   ]
  },
  {
   "cell_type": "markdown",
   "metadata": {},
   "source": [
    "## Changing elements\n",
    "We can change the value of existing items using the assignment operator (=). If the key is already present, then the existing value gets updated. In case the key is not present, a new (key: value) pair is added to the dictionary.\n"
   ]
  },
  {
   "cell_type": "code",
   "execution_count": 167,
   "metadata": {},
   "outputs": [
    {
     "name": "stdout",
     "output_type": "stream",
     "text": [
      "{'name': 'Loris', 'lastname': 'Batacchi', 'age': 33}\n"
     ]
    }
   ],
   "source": [
    "my_dict = {'name': 'Loris', 'lastname': 'Batacchi', 'age': 32}\n",
    "\n",
    "my_dict['age'] = 33\n",
    "print(my_dict)"
   ]
  },
  {
   "cell_type": "markdown",
   "metadata": {},
   "source": [
    "## Adding elements"
   ]
  },
  {
   "cell_type": "code",
   "execution_count": 168,
   "metadata": {},
   "outputs": [
    {
     "name": "stdout",
     "output_type": "stream",
     "text": [
      "{'name': 'Loris', 'lastname': 'Batacchi', 'age': 32, 'address': \"Sant'Arcangelo di Romagna\"}\n"
     ]
    }
   ],
   "source": [
    "my_dict = {'name': 'Loris', 'lastname': 'Batacchi', 'age': 32}\n",
    "\n",
    "my_dict['address'] = 'Sant\\'Arcangelo di Romagna'\n",
    "print(my_dict)"
   ]
  },
  {
   "cell_type": "markdown",
   "metadata": {},
   "source": [
    "## Removing elements\n",
    "We can remove a particular item in a dictionary by using the *pop()* method. This method removes an item with the provided key and returns its value. The *popitem()* method, instead, can be used to remove and return the last (key, value) item. All the items can be removed at once, using the *clear()* method. We can also use the *del* keyword to remove individual items or the dictionary itself."
   ]
  },
  {
   "cell_type": "code",
   "execution_count": 169,
   "metadata": {},
   "outputs": [
    {
     "name": "stdout",
     "output_type": "stream",
     "text": [
      "{1: 1, 2: 4, 3: 9, 4: 16, 5: 25}\n",
      "removed = 16\n",
      "{1: 1, 2: 4, 3: 9, 5: 25}\n",
      "{2: 4, 3: 9, 5: 25}\n",
      "{}\n"
     ]
    }
   ],
   "source": [
    "squares = {1: 1, 2: 4, 3: 9, 4: 16, 5: 25}\n",
    "print(squares)\n",
    "\n",
    "# remove a particular item, returns its value\n",
    "print('removed =', squares.pop(4))\n",
    "print(squares)\n",
    "\n",
    "# remove an item using del\n",
    "del squares[1]\n",
    "print(squares)\n",
    "\n",
    "# remove all items\n",
    "squares.clear()\n",
    "print(squares)"
   ]
  },
  {
   "cell_type": "markdown",
   "metadata": {},
   "source": [
    "## Other Dictionary Operations\n",
    "We can test if a key is in a dictionary using the keyword *in*. Notice that *the membership test is only for the keys and not for the values*. We can iterate through both keys and key:value pairs using a for loop."
   ]
  },
  {
   "cell_type": "code",
   "execution_count": 170,
   "metadata": {},
   "outputs": [
    {
     "name": "stdout",
     "output_type": "stream",
     "text": [
      "True\n",
      "False\n"
     ]
    }
   ],
   "source": [
    "squares = {1: 1, 2: 4, 3: 9}\n",
    "\n",
    "# membership tests for key only\n",
    "print(1 in squares)\n",
    "print(9 in squares)"
   ]
  },
  {
   "cell_type": "code",
   "execution_count": 171,
   "metadata": {},
   "outputs": [
    {
     "name": "stdout",
     "output_type": "stream",
     "text": [
      "1 1\n",
      "2 4\n",
      "3 9\n"
     ]
    }
   ],
   "source": [
    "squares = {1: 1, 2: 4, 3: 9}\n",
    "\n",
    "# Iterating through keys\n",
    "for key in squares:\n",
    "    print(key, squares[key])"
   ]
  },
  {
   "cell_type": "code",
   "execution_count": 172,
   "metadata": {},
   "outputs": [
    {
     "name": "stdout",
     "output_type": "stream",
     "text": [
      "1\n",
      "4\n",
      "9\n"
     ]
    }
   ],
   "source": [
    "squares = {1: 1, 2: 4, 3: 9}\n",
    "\n",
    "# Iterating through values\n",
    "for v in squares.values():\n",
    "    print(v)"
   ]
  },
  {
   "cell_type": "code",
   "execution_count": 173,
   "metadata": {},
   "outputs": [
    {
     "name": "stdout",
     "output_type": "stream",
     "text": [
      "[(1, 1), (2, 4), (3, 9)]\n",
      "1 1\n",
      "2 4\n",
      "3 9\n"
     ]
    }
   ],
   "source": [
    "squares = {1: 1, 2: 4, 3: 9}\n",
    "print(list(squares.items()))\n",
    "\n",
    "# Iterating through keys and values using unpacking\n",
    "for k, v in squares.items():\n",
    "    print(k, v) "
   ]
  },
  {
   "cell_type": "markdown",
   "metadata": {},
   "source": [
    "## OrderedDict\n",
    "\n",
    "In the words of Raymond Hettinger, core Python developer and coauthor of OrderedDict, the class was specially designed to keep its items ordered, whereas the new implementation of dict was designed to be compact and to provide fast iteration:\n",
    "\n",
    "> The current regular dictionary is based on the design I proposed several years ago. The primary goals of that design were compactness and faster iteration over the dense arrays of keys and values. Maintaining order was an artifact rather than a design goal. The design can maintain order but that is not its specialty.\n",
    ">\n",
    "> In contrast, I gave collections.OrderedDict a different design (later coded in C by Eric Snow). The primary goal was to have efficient maintenance of order even for severe workloads such as that imposed by the lru_cache which frequently alters order without touching the underlying dict. Intentionally, the OrderedDict has a design that prioritizes ordering capabilities at the expense of additional memory overhead and a constant factor worse insertion time.\n",
    ">\n",
    "> It is still my goal to have collections.OrderedDict have a different design with different performance characteristics than regular dicts. It has some order specific methods that regular dicts don’t have (such as a move_to_end() and a popitem() that pops efficiently from either end). The OrderedDict needs to be good at those operations because that is what differentiates it from regular dicts. (Source)\n",
    "\n",
    "\n",
    "https://realpython.com/python-ordereddict/#choosing-between-ordereddict-and-dict\n",
    "\n",
    "https://gandenberger.org/2018/03/10/ordered-dicts-vs-ordereddict/"
   ]
  },
  {
   "cell_type": "markdown",
   "metadata": {},
   "source": [
    "# Itertools"
   ]
  },
  {
   "cell_type": "markdown",
   "metadata": {},
   "source": [
    "## Unpacking\n",
    "Python provides some syntactic tricks for working with iterables: unpacking and enumerating. Writing clean, readable code leads to bug-free algorithms that are easy to understand. Furthermore, these tricks will also facilitate the use of other features, like comprehension-statements."
   ]
  },
  {
   "cell_type": "code",
   "execution_count": 174,
   "metadata": {},
   "outputs": [
    {
     "name": "stdout",
     "output_type": "stream",
     "text": [
      "('Ashley', 28, 27)\n",
      "('Brad', 23, 26)\n",
      "('Cassie', 25, 28)\n",
      "Ashley 28 27\n",
      "Brad 23 26\n",
      "Cassie 25 28\n"
     ]
    }
   ],
   "source": [
    "# assigning a list to variables using unpacking\n",
    "my_list = [7, 9, 11]\n",
    "x, y, z = my_list\n",
    "\n",
    "grades = [('Ashley', 28, 27), ('Brad', 23, 26), ('Cassie', 25, 28)]\n",
    "\n",
    "# for loop without unpacking\n",
    "for entry in grades:\n",
    "    print(entry)\n",
    "\n",
    "# for loop with unpacking\n",
    "for name, grade_1, grade_2 in grades:\n",
    "    print(name, grade_1, grade_2)"
   ]
  },
  {
   "cell_type": "markdown",
   "metadata": {},
   "source": [
    "## enumerate()\n",
    "The *enumerate()* function adds a counter to an iterable and returns it. The returned object is an enumerate object. You can convert enumerate objects to lists and tuples using *list()* and *tuple()* functions respectively."
   ]
  },
  {
   "cell_type": "code",
   "execution_count": 175,
   "metadata": {},
   "outputs": [
    {
     "name": "stdout",
     "output_type": "stream",
     "text": [
      "<enumerate object at 0x7feb85b294c0>\n",
      "[(0, 'Nikola'), (1, 'Rimac'), (2, 'Polestar')]\n"
     ]
    }
   ],
   "source": [
    "brands = ['Nikola', 'Rimac', 'Polestar']\n",
    "e = enumerate(brands)\n",
    "l = list(e)\n",
    "print(e)\n",
    "print(l)"
   ]
  },
  {
   "cell_type": "code",
   "execution_count": 176,
   "metadata": {},
   "outputs": [
    {
     "name": "stdout",
     "output_type": "stream",
     "text": [
      "0 Nikola\n",
      "1 Rimac\n",
      "2 Polestar\n"
     ]
    }
   ],
   "source": [
    "brands = ['Nikola', 'Rimac', 'Polestar']\n",
    "for index, brand in enumerate(brands):\n",
    "    print(index, brand)"
   ]
  },
  {
   "cell_type": "code",
   "execution_count": 177,
   "metadata": {},
   "outputs": [
    {
     "name": "stdout",
     "output_type": "stream",
     "text": [
      "[1, 3]\n"
     ]
    }
   ],
   "source": [
    "# identify indices of None elements (without enumeration)\n",
    "none_indices = []\n",
    "index = 0  \n",
    "for item in [2, None, -10, None, 4, 8]:\n",
    "    if item is None:\n",
    "        none_indices.append(index)\n",
    "    index += 1\n",
    "print(none_indices)"
   ]
  },
  {
   "cell_type": "code",
   "execution_count": 178,
   "metadata": {},
   "outputs": [
    {
     "name": "stdout",
     "output_type": "stream",
     "text": [
      "[1, 3]\n"
     ]
    }
   ],
   "source": [
    "# identify indices of None elements (with enumeration)\n",
    "none_indices = []\n",
    "for index, item in enumerate([2, None, -10, None, 4, 8]):\n",
    "    if item is None:\n",
    "        none_indices.append(index)\n",
    "print(none_indices)"
   ]
  },
  {
   "cell_type": "markdown",
   "metadata": {},
   "source": [
    "## zip()\n",
    "The purpose of *zip()* is to map multiple containers so that they can be used as a single entity."
   ]
  },
  {
   "cell_type": "code",
   "execution_count": 179,
   "metadata": {
    "tags": []
   },
   "outputs": [
    {
     "name": "stdout",
     "output_type": "stream",
     "text": [
      "<zip object at 0x7feb85b2a9c0>\n",
      "[('Angie', 90, 95), ('Brian', 82, 84), ('Cassie', 79, 72), ('David', 87, 91)]\n",
      "Angie 90 95\n",
      "Brian 82 84\n",
      "Cassie 79 72\n",
      "David 87 91\n"
     ]
    }
   ],
   "source": [
    "names = ['Angie', 'Brian', 'Cassie', 'David']\n",
    "exam_1_scores = [90, 82, 79, 87]\n",
    "exam_2_scores = [95, 84, 72, 91]\n",
    "\n",
    "print(zip(names, exam_1_scores, exam_2_scores))\n",
    "print(list(zip(names, exam_1_scores, exam_2_scores)))\n",
    "\n",
    "for name, grade_1, grade_2 in zip(names, exam_1_scores, exam_2_scores):\n",
    "    print(name, grade_1, grade_2)"
   ]
  },
  {
   "cell_type": "markdown",
   "metadata": {},
   "source": [
    "# Comprehension Expressions"
   ]
  },
  {
   "cell_type": "markdown",
   "metadata": {},
   "source": [
    "## Generators\n",
    "*A generator is a special kind of iterator*, which stores the instructions for how to generate each of its members, in order, along with its current state of iterations. *A generator does not store its elements in memory but generates each member*, one at a time, as requested via iteration. "
   ]
  },
  {
   "cell_type": "code",
   "execution_count": 180,
   "metadata": {},
   "outputs": [
    {
     "data": {
      "text/plain": [
       "True"
      ]
     },
     "execution_count": 180,
     "metadata": {},
     "output_type": "execute_result"
    }
   ],
   "source": [
    "import types\n",
    "import collections.abc\n",
    "\n",
    "issubclass(types.GeneratorType, collections.abc.Iterator)"
   ]
  },
  {
   "cell_type": "code",
   "execution_count": 181,
   "metadata": {},
   "outputs": [
    {
     "name": "stdout",
     "output_type": "stream",
     "text": [
      "0\n",
      "1\n",
      "2\n"
     ]
    }
   ],
   "source": [
    "# start: 0 (default, included) # stop: 3 (excluded) # step: 1 (default) \n",
    "for i in range(3): \n",
    "    print(i) "
   ]
  },
  {
   "cell_type": "code",
   "execution_count": 182,
   "metadata": {},
   "outputs": [
    {
     "name": "stdout",
     "output_type": "stream",
     "text": [
      "12\n",
      "13\n",
      "14\n"
     ]
    }
   ],
   "source": [
    "# start: 12 (included) # stop: 15 (excluded) # step: 1 (default) \n",
    "for i in range(12, 15): \n",
    "    print(i) "
   ]
  },
  {
   "cell_type": "code",
   "execution_count": 183,
   "metadata": {},
   "outputs": [
    {
     "name": "stdout",
     "output_type": "stream",
     "text": [
      "0\n",
      "2\n",
      "4\n",
      "6\n",
      "8\n"
     ]
    }
   ],
   "source": [
    "# start: 1 (included) # stop: 10 (excluded) # step: 3\n",
    "for i in range(0, 10, 2): \n",
    "    print(i) "
   ]
  },
  {
   "cell_type": "markdown",
   "metadata": {},
   "source": [
    "## Generator Comprehension\n",
    "*A generator comprehension is a single-line specification for defining a generator*. It is absolutely essential to learn this syntax in order to write simple and readable code.\n",
    "\n",
    "```\n",
    "(<expression> for <var> in <iterable> [if <condition>]) \n",
    "```\n",
    "Specifies the general form for a generator comprehension. This produces a generator, whose instructions for generating its members are provided within the parenthetical statement."
   ]
  },
  {
   "cell_type": "code",
   "execution_count": 184,
   "metadata": {},
   "outputs": [
    {
     "name": "stdout",
     "output_type": "stream",
     "text": [
      "0.0\n",
      "4.5\n",
      "10.5\n"
     ]
    }
   ],
   "source": [
    "example_gen = (i/2 for i in [0, 9, 21, 32] if i < 30)\n",
    "for item in example_gen:\n",
    "    print(item)"
   ]
  },
  {
   "cell_type": "code",
   "execution_count": 185,
   "metadata": {},
   "outputs": [
    {
     "name": "stdout",
     "output_type": "stream",
     "text": [
      "(0, 0, 0)\n",
      "(1, 1, 1)\n",
      "(2, 4, 8)\n",
      "(3, 9, 27)\n",
      "(4, 16, 64)\n"
     ]
    }
   ],
   "source": [
    "example_gen = ((i, i**2, i**3) for i in range(5))\n",
    "for item in example_gen:\n",
    "    print(item)"
   ]
  },
  {
   "cell_type": "code",
   "execution_count": 186,
   "metadata": {},
   "outputs": [
    {
     "name": "stdout",
     "output_type": "stream",
     "text": [
      "even\n",
      "odd\n",
      "even\n",
      "odd\n",
      "even\n",
      "odd\n",
      "even\n",
      "odd\n",
      "even\n",
      "odd\n"
     ]
    }
   ],
   "source": [
    "example_gen = (('even' if i % 2 == 0 else 'odd') for i in range(10))\n",
    "for item in example_gen:\n",
    "    print(item)"
   ]
  },
  {
   "cell_type": "markdown",
   "metadata": {},
   "source": [
    "## Consuming generators\n",
    "We can feed a generator to any function accepting iterators. For instance, we can feed it to the built-in sum function, which sums the contents of an iterable. This computes the sum of the sequence of numbers without ever storing the full sequence of numbers in memory.\n",
    "\n",
    "*You must redefine the generator if you want to iterate over it again*. Defining a generator requires very few resources, so this is not a point of concern."
   ]
  },
  {
   "cell_type": "code",
   "execution_count": 187,
   "metadata": {},
   "outputs": [
    {
     "name": "stdout",
     "output_type": "stream",
     "text": [
      "285\n",
      "0\n"
     ]
    }
   ],
   "source": [
    "gen = (i**2 for i in range(10))\n",
    "# computes the sum of a generator\n",
    "print(sum(gen))\n",
    "\n",
    "# computes the sum of ... nothing!\n",
    "# the generator has already been consumed!\n",
    "print(sum(gen))"
   ]
  },
  {
   "cell_type": "code",
   "execution_count": 188,
   "metadata": {},
   "outputs": [
    {
     "name": "stdout",
     "output_type": "stream",
     "text": [
      "0\n",
      "1\n",
      "4\n",
      "StopIteration\n"
     ]
    }
   ],
   "source": [
    "gen = (i**2 for i in range(3))\n",
    "\n",
    "try:\n",
    "    print(next(gen))\n",
    "    print(next(gen))\n",
    "    print(next(gen))\n",
    "    print(next(gen))\n",
    "except StopIteration:\n",
    "    print('StopIteration')"
   ]
  },
  {
   "cell_type": "markdown",
   "metadata": {},
   "source": [
    "A generator comprehension can be specified directly as an argument to a function."
   ]
  },
  {
   "cell_type": "code",
   "execution_count": 189,
   "metadata": {},
   "outputs": [
    {
     "name": "stdout",
     "output_type": "stream",
     "text": [
      "5050\n",
      "[0, 1, 4, 9, 16, 25, 36, 49, 64, 81]\n",
      "False\n",
      "True\n",
      "10, 200, 4000, 800\n"
     ]
    }
   ],
   "source": [
    "# providing generator expressions as arguments to functions that operate on iterables\n",
    "print(sum(i for i in range(101)))\n",
    "print(list(i**2 for i in range(10)))\n",
    "print(any(i < 6 for i in [6, 6, 7, 7, 8, 8]))\n",
    "print(all(i < 16 for i in [6, 6, 5, 7, 8, 8]))\n",
    "print(', '.join(str(i) for i in [10, 200, 4000, 800]))"
   ]
  },
  {
   "cell_type": "markdown",
   "metadata": {},
   "source": [
    "## List & Tuple Comprehensions"
   ]
  },
  {
   "cell_type": "markdown",
   "metadata": {},
   "source": [
    "Using generator comprehensions to initialize lists is so useful that Python actually reserves a specialized syntax for it, known as the list comprehension. A list comprehension is a syntax for constructing a list, which exactly mirrors the generator comprehension syntax:\n",
    "\n",
    "```\n",
    "[<expression> for <var> in <iterable> [if <condition>]]\n",
    "```"
   ]
  },
  {
   "cell_type": "code",
   "execution_count": 190,
   "metadata": {},
   "outputs": [
    {
     "name": "stdout",
     "output_type": "stream",
     "text": [
      "[0, 1, 4, 9, 16]\n",
      "(0, 1, 4, 9, 16)\n"
     ]
    }
   ],
   "source": [
    "# creating a list using a comprehension expression \n",
    "print(list(i**2 for i in range(5)))\n",
    "\n",
    "# creating a tuple using a comprehension expression \n",
    "print(tuple(i**2 for i in range(5)))"
   ]
  },
  {
   "cell_type": "code",
   "execution_count": 191,
   "metadata": {},
   "outputs": [
    {
     "name": "stdout",
     "output_type": "stream",
     "text": [
      "[0.0, 1.0, 1.4142135623730951, 1.7320508075688772, 2.0]\n"
     ]
    }
   ],
   "source": [
    "import math\n",
    "print([math.sqrt(i) for i in range(5)])"
   ]
  },
  {
   "cell_type": "code",
   "execution_count": 192,
   "metadata": {},
   "outputs": [
    {
     "name": "stdout",
     "output_type": "stream",
     "text": [
      "['andrew', 'lucy', 'george', 'lucas']\n"
     ]
    }
   ],
   "source": [
    "l = ['  Andrew  ', ' luCY   ', '    george', ' LUCAS  ']\n",
    "l = [s.strip().lower() for s in l]\n",
    "print(l)"
   ]
  },
  {
   "cell_type": "code",
   "execution_count": 193,
   "metadata": {},
   "outputs": [
    {
     "name": "stdout",
     "output_type": "stream",
     "text": [
      "['Python', 'You']\n",
      "['Python', 'You']\n"
     ]
    }
   ],
   "source": [
    "# Select all words containing the char 'o' OR 'O'\n",
    "word_collection = ['Python', 'Like', 'You', 'Mean', 'It']\n",
    "\n",
    "# without list comprehension (4 lines)\n",
    "out = []\n",
    "for word in word_collection:\n",
    "    if 'o' in word.lower():\n",
    "        out.append(word)\n",
    "print(out)\n",
    "\n",
    "# with list comprehension (1 line)\n",
    "out = [word for word in word_collection if 'o' in word.lower()]\n",
    "print(out)"
   ]
  },
  {
   "cell_type": "code",
   "execution_count": 194,
   "metadata": {},
   "outputs": [
    {
     "name": "stdout",
     "output_type": "stream",
     "text": [
      "[0, 0, 0, 0, 1, 0, 0, 0, 1, 0, 0, 0, 0, 0, 0, 0, 1, 0, 0]\n",
      "[0, 0, 0, 0, 1, 0, 0, 0, 1, 0, 0, 0, 0, 0, 0, 0, 1, 0, 0]\n"
     ]
    }
   ],
   "source": [
    "# Transform a string in a list of numbers 0 or 1\n",
    "# 1 if letter is 'o'\n",
    "# 0 otherwise\n",
    "\n",
    "word = 'Hello. How Are You?'\n",
    "\n",
    "# without comprehension\n",
    "out = []\n",
    "for i in word:\n",
    "    if i == 'o':\n",
    "        out.append(1)\n",
    "    else:\n",
    "        out.append(0)\n",
    "print(out)\n",
    "\n",
    "# with comprehension\n",
    "out = [(1 if letter == 'o' else 0) for letter in word]\n",
    "print(out)"
   ]
  },
  {
   "cell_type": "markdown",
   "metadata": {},
   "source": [
    "## Dictionary Comprehension\n",
    "Dictionary comprehension is an elegant and concise way to create a new dictionary.\n",
    "Dictionary comprehension consists of an expression pair (key: value) followed by a for statement inside curly braces {}."
   ]
  },
  {
   "cell_type": "code",
   "execution_count": 195,
   "metadata": {},
   "outputs": [
    {
     "name": "stdout",
     "output_type": "stream",
     "text": [
      "{0: 0, 1: 1, 2: 4, 3: 9, 4: 16, 5: 25, 6: 36, 7: 49, 8: 64, 9: 81, 10: 100, 11: 121, 12: 144, 13: 169, 14: 196, 15: 225}\n",
      "{0: 0, 1: 1, 2: 4, 3: 9, 4: 16, 5: 25, 6: 36, 7: 49, 8: 64, 9: 81, 10: 100, 11: 121, 12: 144, 13: 169, 14: 196, 15: 225}\n"
     ]
    }
   ],
   "source": [
    "# Without Dictionary Comprehension\n",
    "squares = {}\n",
    "for n in range(16):\n",
    "    squares[n] = n**2\n",
    "print(squares)\n",
    "\n",
    "# With Dictionary Comprehension\n",
    "squares = {n: n**2 for n in range(16)}\n",
    "print(squares)"
   ]
  },
  {
   "cell_type": "code",
   "execution_count": 196,
   "metadata": {},
   "outputs": [
    {
     "name": "stdout",
     "output_type": "stream",
     "text": [
      "{'lifting': -2993040768996538314,\n",
      " 'mother': -1564189221905096092,\n",
      " 'spaceship': 6299750464106700397}\n"
     ]
    }
   ],
   "source": [
    "# Without Dictionary Comprehension\n",
    "words = ['mother', 'spaceship', 'is', 'lifting', 'off']\n",
    "too_common = ['a', 'is', 'not', 'and', 'off']\n",
    "\n",
    "# With Dictionary Comprehension\n",
    "d = {word: hash(word) for word in words if word not in too_common}\n",
    "\n",
    "# pprint stands for pretty print\n",
    "\n",
    "import pprint\n",
    "pprint.pprint(d)"
   ]
  },
  {
   "cell_type": "markdown",
   "metadata": {},
   "source": [
    "# Sorting Iterables"
   ]
  },
  {
   "cell_type": "markdown",
   "metadata": {},
   "source": [
    "## Using sort() and sorted()"
   ]
  },
  {
   "cell_type": "markdown",
   "metadata": {},
   "source": [
    "Both *list.sort()* and *sorted()* can be used for sorting. Both support a *key* parameter to specify a function (or other callable) to be called on each element prior to making comparisons needed for ordering.\n",
    "\n",
    "The value of the key parameter should be a function (or other callable) that takes a single argument and returns a key to use for sorting purposes. This technique is fast because the key function is called exactly once for each input record."
   ]
  },
  {
   "cell_type": "code",
   "execution_count": 197,
   "metadata": {},
   "outputs": [
    {
     "name": "stdout",
     "output_type": "stream",
     "text": [
      "[('BMW', 'M2', 200), ('Rimac', 'Concept One', 300), ('Fiat', '500E', 100)]\n",
      "[{'brand': 'BMW', 'model': 'M2', 'speed': 200}, {'brand': 'Rimac', 'model': 'Concept One', 'speed': 300}, {'brand': 'Fiat', 'model': '500E', 'speed': 100}]\n"
     ]
    }
   ],
   "source": [
    "# sorting tuples\n",
    "car_tuples = [\n",
    "    ('BMW', 'M2', 200),\n",
    "    ('Rimac', 'Concept One', 300),\n",
    "    ('Fiat', '500E', 100),\n",
    "]\n",
    "\n",
    "car_dicts = [\n",
    "    {'brand' : 'BMW', 'model' : 'M2', 'speed' : 200},\n",
    "    {'brand' : 'Rimac', 'model' : 'Concept One', 'speed' : 300},\n",
    "    {'brand' : 'Fiat', 'model' : '500E', 'speed' : 100},\n",
    "]\n",
    "\n",
    "# sort by brand\n",
    "print(sorted(car_tuples, key=lambda car : car[1], reverse=True))\n",
    "print(sorted(car_dicts, key=lambda car : car['model'], reverse=True))"
   ]
  },
  {
   "cell_type": "markdown",
   "metadata": {},
   "source": [
    "## The operator module"
   ]
  },
  {
   "cell_type": "markdown",
   "metadata": {},
   "source": [
    "The key-function patterns shown above are very common, so Python provides convenience functions to make accessor functions easier and faster. The *operator* module has *itemgetter()*, *attrgetter()*, and a *methodcaller()* function. *itemgetter()* fetches items from an iterable, while *attrgetter()* fetches attributes from objects."
   ]
  },
  {
   "cell_type": "code",
   "execution_count": 198,
   "metadata": {},
   "outputs": [
    {
     "name": "stdout",
     "output_type": "stream",
     "text": [
      "[('BMW', 'M2', 200), ('Fiat', '500E', 100), ('Rimac', 'Concept One', 300)]\n",
      "[('Fiat', '500E', 100), ('Rimac', 'Concept One', 300), ('BMW', 'M2', 200)]\n"
     ]
    }
   ],
   "source": [
    "import operator\n",
    "print(sorted(car_tuples, key=operator.itemgetter(0)))\n",
    "print(sorted(car_tuples, key=operator.itemgetter(1)))"
   ]
  },
  {
   "cell_type": "markdown",
   "metadata": {},
   "source": [
    "## Sorting on multiple levels\n",
    "The *operator* module functions allows multiple levels of sorting. For example, to sort by grade then by age:"
   ]
  },
  {
   "cell_type": "code",
   "execution_count": 199,
   "metadata": {},
   "outputs": [
    {
     "name": "stdout",
     "output_type": "stream",
     "text": [
      "[('BMW', 'M2', 200), ('Fiat', '500E', 100), ('Rimac', 'Concept One', 300)]\n",
      "[('Fiat', '500E', 100), ('Rimac', 'Concept One', 300), ('BMW', 'M2', 200)]\n"
     ]
    }
   ],
   "source": [
    "import operator\n",
    "print(sorted(car_tuples, key=operator.itemgetter(0, 1)))\n",
    "print(sorted(car_tuples, key=operator.itemgetter(1, 2)))"
   ]
  },
  {
   "cell_type": "code",
   "execution_count": 200,
   "metadata": {},
   "outputs": [
    {
     "name": "stdout",
     "output_type": "stream",
     "text": [
      "[{'brand': 'Fiat', 'model': '500E', 'speed': 100}, {'brand': 'Rimac', 'model': 'Concept One', 'speed': 300}, {'brand': 'BMW', 'model': 'M2', 'speed': 200}]\n",
      "[{'brand': 'BMW', 'model': 'M2', 'speed': 200}, {'brand': 'Fiat', 'model': '500E', 'speed': 100}, {'brand': 'Rimac', 'model': 'Concept One', 'speed': 300}]\n"
     ]
    }
   ],
   "source": [
    "import operator\n",
    "print(sorted(car_dicts, key=operator.itemgetter('model')))\n",
    "print(sorted(car_dicts, key=operator.itemgetter('brand','model')))"
   ]
  },
  {
   "cell_type": "markdown",
   "metadata": {},
   "source": [
    "# Copying Iterables"
   ]
  },
  {
   "cell_type": "markdown",
   "metadata": {},
   "source": [
    "## Shallow copy\n",
    "\n",
    "The easiest way to copy a list (or most built-in mutable collections) is to use the built-in constructor for the type itself. For lists and other mutable sequences, the shortcut l2 = l1[:] also makes a copy. "
   ]
  },
  {
   "cell_type": "code",
   "execution_count": 201,
   "metadata": {},
   "outputs": [
    {
     "name": "stdout",
     "output_type": "stream",
     "text": [
      "True\n",
      "True\n",
      "False\n",
      "False\n"
     ]
    }
   ],
   "source": [
    "l1 = [1, 2, [3, 4], (5, 6)]\n",
    "l2 = list(l1)\n",
    "l3 = l1[:]\n",
    "print(l2 == l1)\n",
    "print(l3 == l1)\n",
    "print(l2 is l1)\n",
    "print(l3 is l1)"
   ]
  },
  {
   "cell_type": "markdown",
   "metadata": {},
   "source": [
    "However, these approaches produce shallow copies (i.e., the outermost container is duplicated, but the copy is filled with references to the same items held by the original container). This saves memory and causes no problems if all the items are immutable. But if there are mutable items, this may lead to unpleasant surprises. [pythontutor](http://www.pythontutor.com/) allows for visualizing code as the examples below show.\n",
    "\n",
    "|                |              | \n",
    "| :------------- | :----------: |\n",
    "|  ![alt](images/obj_copy_1.png)| | \n",
    "\n",
    "What happens when innermost iterable containers are modified?"
   ]
  },
  {
   "cell_type": "code",
   "execution_count": 202,
   "metadata": {},
   "outputs": [
    {
     "name": "stdout",
     "output_type": "stream",
     "text": [
      "l1: [1, 2, [3, 4], (5, 6)]\n",
      "l2: [1, 2, [3, 4], (5, 6)]\n",
      "l1: [1, 2, [3, 4], (5, 6)]\n",
      "l2: [1, 2, [3, 4, '*'], (5, 6, '*'), '*']\n"
     ]
    }
   ],
   "source": [
    "l1 = [1, 2, [3, 4], (5, 6)]\n",
    "l2 = list(l1)\n",
    "print('l1:', l1)\n",
    "print('l2:', l2)\n",
    "\n",
    "# the copy (l2) gets modified\n",
    "l2.append('*')\n",
    "l2[2] = [3, 4, '*']\n",
    "l2[3] = (5, 6, '*')\n",
    "print('l1:', l1)\n",
    "print('l2:', l2)"
   ]
  },
  {
   "cell_type": "markdown",
   "metadata": {},
   "source": [
    "|  Before        |  After       | \n",
    "| :------------- | :----------: |\n",
    "|  ![alt](images/obj_copy_1.png) | ![alt](images/obj_copy_2.png)   | \n",
    "\n"
   ]
  },
  {
   "cell_type": "code",
   "execution_count": 1,
   "metadata": {},
   "outputs": [
    {
     "name": "stdout",
     "output_type": "stream",
     "text": [
      "l1: [1, 2, [3, 4], (5, 6)]\n",
      "l2: [1, 2, [3, 4], (5, 6)]\n",
      "l1: [1, 2, [3, 4, '*'], (5, 6)]\n",
      "l2: [1, 2, [3, 4, '*'], (5, 6, '*'), '*']\n"
     ]
    }
   ],
   "source": [
    "l1 = [1, 2, [3, 4], (5, 6)]\n",
    "l2 = list(l1)\n",
    "print('l1:', l1)\n",
    "print('l2:', l2)\n",
    "\n",
    "# the copy (l2) gets modified\n",
    "l2.append('*')\n",
    "l2[2].append('*')\n",
    "l2[3] = (5, 6, '*')\n",
    "\n",
    "# despite methods have been called on l2, also l1 has been modified\n",
    "print('l1:', l1)\n",
    "print('l2:', l2)"
   ]
  },
  {
   "cell_type": "markdown",
   "metadata": {},
   "source": [
    "|  Before        |  After       | \n",
    "| :------------- | :----------: |\n",
    "|  ![alt](images/obj_copy_1.png) | ![alt](images/obj_copy_3.png)   | \n",
    "\n"
   ]
  },
  {
   "cell_type": "markdown",
   "metadata": {},
   "source": [
    "## Deep copy\n",
    "Deep copies (completely separate copies) can be obtained by making use of the *copy* module."
   ]
  },
  {
   "cell_type": "code",
   "execution_count": 3,
   "metadata": {},
   "outputs": [
    {
     "name": "stdout",
     "output_type": "stream",
     "text": [
      "True\n",
      "False\n"
     ]
    }
   ],
   "source": [
    "# deep copy: the tuple is not duplicated because contains only immutable elements\n",
    "import copy\n",
    "l1 = [1, 2, [3, 4], (5, 6)]\n",
    "l2 = copy.deepcopy(l1)\n",
    "print(l2 == l1)\n",
    "print(l2 is l1)"
   ]
  },
  {
   "cell_type": "markdown",
   "metadata": {
    "tags": []
   },
   "source": [
    "|  Shallow Copy  |  Deep Copy   | \n",
    "| :------------- | :----------: |\n",
    "|  ![alt](images/obj_copy_1.png) | ![alt](images/obj_copy_4.png)   |"
   ]
  },
  {
   "cell_type": "code",
   "execution_count": 4,
   "metadata": {},
   "outputs": [
    {
     "name": "stdout",
     "output_type": "stream",
     "text": [
      "True\n",
      "False\n"
     ]
    }
   ],
   "source": [
    "# deep copy: the tuple is duplicated as well because lists are mutable\n",
    "import copy\n",
    "l1 = [1, 2, [3, 4], (5, 6, [])]\n",
    "l2 = copy.deepcopy(l1)\n",
    "print(l2 == l1)\n",
    "print(l2 is l1)"
   ]
  },
  {
   "cell_type": "markdown",
   "metadata": {
    "tags": []
   },
   "source": [
    "|  Shallow Copy  |  Deep Copy   | \n",
    "| :------------- | :----------: |\n",
    "|  ![alt](images/obj_copy_1.png) | ![alt](images/obj_copy_5.png)   |"
   ]
  },
  {
   "cell_type": "code",
   "execution_count": null,
   "metadata": {},
   "outputs": [],
   "source": []
  }
 ],
 "metadata": {
  "kernelspec": {
   "display_name": "Python 3 (ipykernel)",
   "language": "python",
   "name": "python3"
  },
  "language_info": {
   "codemirror_mode": {
    "name": "ipython",
    "version": 3
   },
   "file_extension": ".py",
   "mimetype": "text/x-python",
   "name": "python",
   "nbconvert_exporter": "python",
   "pygments_lexer": "ipython3",
   "version": "3.10.9"
  },
  "toc-autonumbering": true
 },
 "nbformat": 4,
 "nbformat_minor": 4
}
