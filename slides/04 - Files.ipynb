{
 "cells": [
  {
   "cell_type": "markdown",
   "id": "ac7bfc20",
   "metadata": {},
   "source": [
    "# Exceptions\n",
    "(? Solo se servono per il progetto)"
   ]
  },
  {
   "cell_type": "markdown",
   "id": "f88a5f90",
   "metadata": {},
   "source": [
    "## Definition\n",
    "When something goes wrong an exception is raised. For example, if you try to divide by zero, `ZeroDivisionError` is raised or if you try to access a nonexistent key in a dictionary, `KeyError` is raised."
   ]
  },
  {
   "cell_type": "code",
   "execution_count": null,
   "id": "08cc706b",
   "metadata": {},
   "outputs": [],
   "source": [
    "empty_dict = {}\n",
    "\n",
    "# Uncomment to see the traceback\n",
    "# empty_dict['key']  "
   ]
  },
  {
   "cell_type": "markdown",
   "id": "2b22c0c0",
   "metadata": {},
   "source": [
    "## try - except\n",
    "If you know that a block of code can fail in some manner, you can use `try-except` structure to handle potential exceptions in a desired way."
   ]
  },
  {
   "cell_type": "code",
   "execution_count": null,
   "id": "fe2f29f4",
   "metadata": {},
   "outputs": [
    {
     "name": "stdout",
     "output_type": "stream",
     "text": [
      "[Errno 2] No such file or directory: 'not_existing.txt'\n"
     ]
    }
   ],
   "source": [
    "# Let's try to open a file that does not exist\n",
    "file_name = 'not_existing.txt'\n",
    "\n",
    "try:\n",
    "    with open(file_name, 'r') as my_file:\n",
    "        print('File is successfully open') \n",
    "        \n",
    "except FileNotFoundError as e:\n",
    "    print(e)"
   ]
  },
  {
   "cell_type": "markdown",
   "id": "c6785e08",
   "metadata": {},
   "source": [
    "If you don't know the type of exceptions that a code block can possibly raise, you can use `Exception` which catches all exceptions. In addition, you can have multiple `except` statements."
   ]
  },
  {
   "cell_type": "code",
   "execution_count": null,
   "id": "f2d6c7fa",
   "metadata": {},
   "outputs": [
    {
     "name": "stdout",
     "output_type": "stream",
     "text": [
      "division by zero\n",
      "0.0\n",
      "unsupported operand type(s) for /: 'int' and 'str'\n",
      "0.0\n"
     ]
    }
   ],
   "source": [
    "def calculate_division(var1, var2):\n",
    "    result = 0.0\n",
    "    try:\n",
    "        result = var1 / var2\n",
    "    except ZeroDivisionError as e:\n",
    "        print(e)\n",
    "    except TypeError as e:\n",
    "        print(e)\n",
    "    return result\n",
    "\n",
    "print(calculate_division(3, 0))\n",
    "print(calculate_division(3, '0'))"
   ]
  },
  {
   "cell_type": "markdown",
   "id": "fce34fa6",
   "metadata": {},
   "source": [
    "## Delegation"
   ]
  },
  {
   "cell_type": "markdown",
   "id": "8bc099ef",
   "metadata": {},
   "source": [
    "`try-except` can be also in outer scope:"
   ]
  },
  {
   "cell_type": "code",
   "execution_count": null,
   "id": "1ca4cba2",
   "metadata": {},
   "outputs": [
    {
     "name": "stdout",
     "output_type": "stream",
     "text": [
      "division by zero\n"
     ]
    }
   ],
   "source": [
    "def calculate_division(var1, var2):\n",
    "    return var1 / var2\n",
    "\n",
    "try:\n",
    "    calculate_division(3, 0)\n",
    "except ZeroDivisionError as e:\n",
    "    print(e)\n",
    "except TypeError as e:\n",
    "    print(e)"
   ]
  },
  {
   "cell_type": "code",
   "execution_count": null,
   "id": "00e74b01",
   "metadata": {},
   "outputs": [
    {
     "name": "stdout",
     "output_type": "stream",
     "text": [
      "division by zero\n"
     ]
    }
   ],
   "source": [
    "def calculate_division(var1, var2):\n",
    "    return var1 / var2\n",
    "\n",
    "def process(var1, var2):\n",
    "    # other computations\n",
    "    return calculate_division(var1, var2) \n",
    "\n",
    "try:\n",
    "    process(3, 0)\n",
    "except ZeroDivisionError as e:\n",
    "    print(e)\n",
    "except TypeError as e:\n",
    "    print(e)"
   ]
  },
  {
   "cell_type": "markdown",
   "id": "134b9449",
   "metadata": {},
   "source": [
    "## Raising exceptions"
   ]
  },
  {
   "cell_type": "markdown",
   "id": "fb2891c1",
   "metadata": {},
   "source": [
    "We can use the *raise* keyword to throw an exception if a condition occurs. The statement can be complemented with a custom exception. Using standard exceptions is nevertheless preferred. Refer to [https://docs.python.org/3/library/exceptions.html](https://docs.python.org/3/library/exceptions.html) for the full taxonomy of exceptions."
   ]
  },
  {
   "cell_type": "code",
   "execution_count": null,
   "id": "6c51e0b9",
   "metadata": {},
   "outputs": [
    {
     "name": "stdout",
     "output_type": "stream",
     "text": [
      "Type error\n"
     ]
    }
   ],
   "source": [
    "def calculate_division(var1, var2):\n",
    "    result = 0.0\n",
    "    \n",
    "    try:\n",
    "        result = var1 / var2\n",
    "    except ZeroDivisionError:\n",
    "        raise ValueError('Zero-division error')\n",
    "    except TypeError:\n",
    "        raise ValueError('Type error')\n",
    "    return result\n",
    "\n",
    "try:\n",
    "    calculate_division(2, '3')\n",
    "except ValueError as e:\n",
    "    print(e)"
   ]
  },
  {
   "cell_type": "markdown",
   "id": "04cb7e16",
   "metadata": {},
   "source": [
    "## try - except - else"
   ]
  },
  {
   "cell_type": "markdown",
   "id": "16656028",
   "metadata": {},
   "source": [
    "The optional *else* clause is executed if and when control flows off the end of the try clause.\n",
    "Control *flows off the end* except in the case of an exception or the execution of a return, continue, or break statement."
   ]
  },
  {
   "cell_type": "code",
   "execution_count": null,
   "id": "3c74ab20",
   "metadata": {},
   "outputs": [],
   "source": [
    "def calculate_division(var1, var2):\n",
    "    return var1 / var2"
   ]
  },
  {
   "cell_type": "code",
   "execution_count": null,
   "id": "df426956",
   "metadata": {},
   "outputs": [
    {
     "name": "stdout",
     "output_type": "stream",
     "text": [
      "Something happened!\n"
     ]
    }
   ],
   "source": [
    "# Don't do this!\n",
    "exception_occured = False\n",
    "try:\n",
    "    calculate_division(1, 0)\n",
    "except ZeroDivisionError:\n",
    "    exception_occured = True\n",
    "except TypeError:\n",
    "    exception_occured = True\n",
    "    \n",
    "if not exception_occured:\n",
    "    print('All went well!')\n",
    "else:\n",
    "    print('Something happened!')"
   ]
  },
  {
   "cell_type": "code",
   "execution_count": null,
   "id": "e9b6c97b",
   "metadata": {},
   "outputs": [
    {
     "name": "stdout",
     "output_type": "stream",
     "text": [
      "Something happened!\n"
     ]
    }
   ],
   "source": [
    "# Do this!\n",
    "try:\n",
    "    calculate_division(1, 0)\n",
    "except ZeroDivisionError:\n",
    "    print('Something happened!')\n",
    "except TypeError:\n",
    "    print('Something happened!')\n",
    "else:\n",
    "    print('All went well!')"
   ]
  },
  {
   "cell_type": "markdown",
   "id": "0297fd0d",
   "metadata": {},
   "source": [
    "## try - except - finally\n",
    "For scenarios where you want to do something always, even when there are exceptions. A *finally* clause is always executed before leaving the try statement, whether an exception has occurred or not. When an exception has occurred in the try clause and has not been handled by an except clause (or it has occurred in a except or else clause), it is re-raised after the finally clause has been executed. The finally clause is also executed *on the way out* when any other clause of the try statement is left via a break, continue or return statement. \n",
    "\n",
    "You can also have `try`-`except`-`else`-`finally` structure. In cases where exception is not raised inside `try`, `else` will be executed before `finally`. If there is an expection, `else` block is not executed."
   ]
  },
  {
   "cell_type": "code",
   "execution_count": null,
   "id": "6f8d33fd",
   "metadata": {},
   "outputs": [
    {
     "name": "stdout",
     "output_type": "stream",
     "text": [
      "Something happened!\n",
      "Always do it!\n"
     ]
    }
   ],
   "source": [
    "def calculate_division(var1, var2):\n",
    "    return var1 / var2\n",
    "\n",
    "try:\n",
    "    calculate_division(1, 0)\n",
    "except ZeroDivisionError:\n",
    "    print('Something happened!')\n",
    "except TypeError:\n",
    "    print('Something happened!')\n",
    "else:\n",
    "    print('All went well!')\n",
    "finally:\n",
    "    print('Always do it!')"
   ]
  },
  {
   "cell_type": "markdown",
   "id": "726d0947",
   "metadata": {},
   "source": [
    "## Summarizing\n",
    "![alt](images/exceptions.png)"
   ]
  },
  {
   "cell_type": "markdown",
   "id": "eed0c9f3",
   "metadata": {},
   "source": [
    "# File I/O"
   ]
  },
  {
   "cell_type": "markdown",
   "id": "c755dd66",
   "metadata": {},
   "source": [
    "## Working with paths"
   ]
  },
  {
   "cell_type": "code",
   "execution_count": null,
   "id": "5be91e26",
   "metadata": {},
   "outputs": [
    {
     "name": "stdout",
     "output_type": "stream",
     "text": [
      "file: /Users/nicola/PycharmProjects/python-core/slides/01 - Python Basics.ipynb\n",
      "directory: /Users/nicola/PycharmProjects/python-core/slides\n",
      "data: /Users/nicola/PycharmProjects/python-core/slides/resources\n"
     ]
    }
   ],
   "source": [
    "import os\n",
    "\n",
    "current_file = os.path.realpath('01 - Python Basics.ipynb')  \n",
    "print('file: {}'.format(current_file))\n",
    "\n",
    "current_dir = os.path.dirname(current_file)  \n",
    "print('directory: {}'.format(current_dir))\n",
    "\n",
    "data_dir = os.path.join(current_dir, 'resources')\n",
    "print('data: {}'.format(data_dir))"
   ]
  },
  {
   "cell_type": "markdown",
   "id": "dda16e9e",
   "metadata": {},
   "source": [
    "## Checking paths"
   ]
  },
  {
   "cell_type": "code",
   "execution_count": null,
   "id": "c3ed8b91",
   "metadata": {},
   "outputs": [
    {
     "name": "stdout",
     "output_type": "stream",
     "text": [
      "exists: True\n",
      "is file: False\n",
      "is directory: True\n"
     ]
    }
   ],
   "source": [
    "print('exists: {}'.format(os.path.exists(current_dir)))\n",
    "print('is file: {}'.format(os.path.isfile(current_dir)))\n",
    "print('is directory: {}'.format(os.path.isdir(current_dir)))"
   ]
  },
  {
   "cell_type": "markdown",
   "id": "45221cf9",
   "metadata": {},
   "source": [
    "## Reading files"
   ]
  },
  {
   "cell_type": "markdown",
   "id": "96470b53",
   "metadata": {},
   "source": [
    "The [`with`](https://docs.python.org/3/reference/compound_stmts.html#the-with-statement) statement is for obtaining a [context manager](https://docs.python.org/3/reference/datamodel.html#with-statement-context-managers) that will be used as an execution context for the commands inside the `with`. Context managers guarantee that certain operations are done when exiting the context. \n",
    "\n",
    "In this case, the context manager guarantees that `file_path.close()` is implicitly called when exiting the context. This is a way to make developers life easier: you don't have to remember to explicitly close the file you openened nor be worried about an exception occuring while the file is open. Unclosed files maybe a source of a resource leak. Thus, prefer using `with open()` structure when working with I/O."
   ]
  },
  {
   "cell_type": "code",
   "execution_count": null,
   "id": "156521d9",
   "metadata": {},
   "outputs": [
    {
     "name": "stdout",
     "output_type": "stream",
     "text": [
      "BMW, M3, 120\n",
      "Toyota, Supra, 130\n",
      "Nissan, GTR, 140\n"
     ]
    }
   ],
   "source": [
    "# Don't do this!\n",
    "file_path = os.path.join(data_dir, 'cars.txt')\n",
    "simple_file = open(file_path, 'r')\n",
    "\n",
    "for line in simple_file:\n",
    "    print(line.strip())\n",
    "simple_file.close()  # This has to be called explicitly "
   ]
  },
  {
   "cell_type": "code",
   "execution_count": null,
   "id": "031c0fc8",
   "metadata": {},
   "outputs": [
    {
     "name": "stdout",
     "output_type": "stream",
     "text": [
      "BMW, M3, 120\n",
      "Toyota, Supra, 130\n",
      "Nissan, GTR, 140\n"
     ]
    }
   ],
   "source": [
    "# Do this!\n",
    "file_path = os.path.join(data_dir, 'cars.txt')\n",
    "\n",
    "with open(file_path, 'r') as simple_file:\n",
    "    for line in simple_file:\n",
    "        print(line.strip())"
   ]
  },
  {
   "cell_type": "markdown",
   "id": "727e84b6",
   "metadata": {},
   "source": [
    "## Writing files"
   ]
  },
  {
   "cell_type": "code",
   "execution_count": null,
   "id": "804fc9ca",
   "metadata": {},
   "outputs": [],
   "source": [
    "new_file_path = os.path.join(data_dir, 'new_file.txt')\n",
    "\n",
    "with open(new_file_path, 'w') as my_file:\n",
    "    my_file.write('This is my first file that I wrote with Python.')"
   ]
  },
  {
   "cell_type": "markdown",
   "id": "4b987015",
   "metadata": {},
   "source": [
    "Now go and check that there is a new_file.txt in the data directory. After that you can delete the file by:"
   ]
  },
  {
   "cell_type": "code",
   "execution_count": null,
   "id": "3d0a640d",
   "metadata": {},
   "outputs": [],
   "source": [
    "if os.path.exists(new_file_path):  # make sure it's there\n",
    "    os.remove(new_file_path)"
   ]
  }
 ],
 "metadata": {
  "language_info": {
   "name": "python"
  }
 },
 "nbformat": 4,
 "nbformat_minor": 5
}
