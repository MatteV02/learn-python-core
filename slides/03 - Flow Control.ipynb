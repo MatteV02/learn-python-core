{
 "cells": [
  {
   "cell_type": "markdown",
   "id": "d6638f47",
   "metadata": {},
   "source": [
    "# Flow control"
   ]
  },
  {
   "cell_type": "markdown",
   "id": "9e413ec2",
   "metadata": {},
   "source": [
    "## if .. else\n",
    "The if..else statement evaluates a boolean condition. If the condition is True, the body of if is executed. If the condition is False, the body of else is executed. Mandatory indentation is used to separate the blocks."
   ]
  },
  {
   "cell_type": "code",
   "execution_count": null,
   "id": "b308b0ea",
   "metadata": {},
   "outputs": [
    {
     "name": "stdout",
     "output_type": "stream",
     "text": [
      "15 > 0\n"
     ]
    }
   ],
   "source": [
    "n = 15\n",
    "if n > 0:\n",
    "    print('{} > 0'.format(n))\n",
    "else:\n",
    "    print('{} <= 0'.format(n))"
   ]
  },
  {
   "cell_type": "markdown",
   "id": "5a5c87ca",
   "metadata": {},
   "source": [
    "## if .. elif .. else\n",
    "The elif is short for else if. It allows us to check for multiple conditions. If the condition for if is False, it checks the condition of the next elif block and so on. If all the conditions are False, the body of else is executed. Only one block among the several if...elif...else blocks is executed according to the condition. The if block can have only one else block. But it can have multiple elif blocks."
   ]
  },
  {
   "cell_type": "code",
   "execution_count": null,
   "id": "e08ad4ba",
   "metadata": {},
   "outputs": [
    {
     "name": "stdout",
     "output_type": "stream",
     "text": [
      "5 > 0\n"
     ]
    }
   ],
   "source": [
    "n = 5\n",
    "if n > 0:\n",
    "    print('{} > 0'.format(n))\n",
    "elif n < 0:\n",
    "    print('{} < 0'.format(n))\n",
    "else:\n",
    "    print('{} == 0'.format(n))"
   ]
  },
  {
   "cell_type": "markdown",
   "id": "5f572fb8",
   "metadata": {},
   "source": [
    "## Comparison operators\n",
    "Every if statement evaluates to *True* or *False*. *True* and *False* are Python keywords, which have special meanings attached to them. You can test a number of conditions in your if statements. The most frequently used are listed below."
   ]
  },
  {
   "cell_type": "code",
   "execution_count": null,
   "id": "8fec1f8f",
   "metadata": {},
   "outputs": [
    {
     "name": "stdout",
     "output_type": "stream",
     "text": [
      "True\n",
      "False\n",
      "True\n"
     ]
    }
   ],
   "source": [
    "a = (2, 3, 4)\n",
    "b = (2, 3, 4)\n",
    "c = b\n",
    "\n",
    "# == compares objects content\n",
    "print(a == b)\n",
    "\n",
    "# is compares references (objects identity)\n",
    "print(a is b)\n",
    "print(c is b)"
   ]
  },
  {
   "cell_type": "code",
   "execution_count": null,
   "id": "9fab4c02",
   "metadata": {},
   "outputs": [
    {
     "name": "stdout",
     "output_type": "stream",
     "text": [
      "True\n",
      "False\n"
     ]
    }
   ],
   "source": [
    "# Some immutable objects (str, int, ...) are transparently optimized (like Strings in Java)\n",
    "a = 4.2\n",
    "b = 4.2\n",
    "\n",
    "# == compares objects content\n",
    "print(a == b)\n",
    "\n",
    "# is compares references (objects identity)\n",
    "print(a is b)"
   ]
  },
  {
   "cell_type": "code",
   "execution_count": null,
   "id": "ba48e90b",
   "metadata": {},
   "outputs": [
    {
     "data": {
      "text/plain": [
       "False"
      ]
     },
     "metadata": {},
     "output_type": "display_data"
    }
   ],
   "source": [
    "5 == 4"
   ]
  },
  {
   "cell_type": "code",
   "execution_count": null,
   "id": "904ec54a",
   "metadata": {},
   "outputs": [
    {
     "data": {
      "text/plain": [
       "True"
      ]
     },
     "metadata": {},
     "output_type": "display_data"
    }
   ],
   "source": [
    "5 == 5.0"
   ]
  },
  {
   "cell_type": "code",
   "execution_count": null,
   "id": "74d76fc1",
   "metadata": {},
   "outputs": [
    {
     "data": {
      "text/plain": [
       "True"
      ]
     },
     "metadata": {},
     "output_type": "display_data"
    }
   ],
   "source": [
    "'Eric'.lower() == 'eric'.lower()"
   ]
  },
  {
   "cell_type": "code",
   "execution_count": null,
   "id": "1a94717d",
   "metadata": {},
   "outputs": [
    {
     "data": {
      "text/plain": [
       "True"
      ]
     },
     "metadata": {},
     "output_type": "display_data"
    }
   ],
   "source": [
    "'5' == str(5)"
   ]
  },
  {
   "cell_type": "code",
   "execution_count": null,
   "id": "a5781fec",
   "metadata": {},
   "outputs": [
    {
     "data": {
      "text/plain": [
       "True"
      ]
     },
     "metadata": {},
     "output_type": "display_data"
    }
   ],
   "source": [
    "3 != 5"
   ]
  },
  {
   "cell_type": "code",
   "execution_count": null,
   "id": "d12488c7",
   "metadata": {},
   "outputs": [
    {
     "data": {
      "text/plain": [
       "True"
      ]
     },
     "metadata": {},
     "output_type": "display_data"
    }
   ],
   "source": [
    "'Eric' != 'eric'"
   ]
  },
  {
   "cell_type": "code",
   "execution_count": null,
   "id": "61d11a72",
   "metadata": {},
   "outputs": [
    {
     "data": {
      "text/plain": [
       "True"
      ]
     },
     "metadata": {},
     "output_type": "display_data"
    }
   ],
   "source": [
    "5 > 3"
   ]
  },
  {
   "cell_type": "code",
   "execution_count": null,
   "id": "593a48f8",
   "metadata": {},
   "outputs": [
    {
     "data": {
      "text/plain": [
       "True"
      ]
     },
     "metadata": {},
     "output_type": "display_data"
    }
   ],
   "source": [
    "3 >= 3"
   ]
  },
  {
   "cell_type": "code",
   "execution_count": null,
   "id": "a07d54c0",
   "metadata": {},
   "outputs": [
    {
     "data": {
      "text/plain": [
       "True"
      ]
     },
     "metadata": {},
     "output_type": "display_data"
    }
   ],
   "source": [
    "3 < 5"
   ]
  },
  {
   "cell_type": "code",
   "execution_count": null,
   "id": "c8d5ba70",
   "metadata": {},
   "outputs": [
    {
     "data": {
      "text/plain": [
       "True"
      ]
     },
     "metadata": {},
     "output_type": "display_data"
    }
   ],
   "source": [
    "3 <= 5"
   ]
  },
  {
   "cell_type": "code",
   "execution_count": null,
   "id": "31d68922",
   "metadata": {},
   "outputs": [
    {
     "data": {
      "text/plain": [
       "True"
      ]
     },
     "metadata": {},
     "output_type": "display_data"
    }
   ],
   "source": [
    "vowels = 'aeiou'\n",
    "'a' in vowels"
   ]
  },
  {
   "cell_type": "code",
   "execution_count": null,
   "id": "d9c12e49",
   "metadata": {},
   "outputs": [
    {
     "data": {
      "text/plain": [
       "True"
      ]
     },
     "metadata": {},
     "output_type": "display_data"
    }
   ],
   "source": [
    "vowels = ['a', 'e', 'i', 'o', 'u']\n",
    "'a' in vowels"
   ]
  },
  {
   "cell_type": "markdown",
   "id": "b433afcd",
   "metadata": {},
   "source": [
    "## Logical operators"
   ]
  },
  {
   "cell_type": "code",
   "execution_count": null,
   "id": "d098e895",
   "metadata": {},
   "outputs": [
    {
     "name": "stdout",
     "output_type": "stream",
     "text": [
      "11 > 5 and 11 > 10\n",
      "11 < 5 or 11 > 10\n"
     ]
    }
   ],
   "source": [
    "x = 11\n",
    "\n",
    "# and\n",
    "if x > 5 and x > 10:\n",
    "    print('{} > 5 and {} > 10'.format(x, x))\n",
    "\n",
    "# or\n",
    "if x < 5 or x > 10:\n",
    "    print('{} < 5 or {} > 10'.format(x, x))\n",
    "    \n",
    "# not\n",
    "if not x > 10:\n",
    "    print('not {} > 10'.format(x))\n",
    "    "
   ]
  },
  {
   "cell_type": "markdown",
   "id": "dd29855e",
   "metadata": {},
   "source": [
    "## for loop\n",
    "The for loop in Python is used to iterate over sequences or other iterable objects (e.g., bytearrays, buffers). Iterating over a sequence is called traversal. *char* is the variable that takes the value of each item inside the sequence on each iteration. The iteration continues until the end of the sequence is reached. The body of for loop is separated from the rest of the code using indentation. "
   ]
  },
  {
   "cell_type": "code",
   "execution_count": null,
   "id": "078fe68a",
   "metadata": {},
   "outputs": [
    {
     "name": "stdout",
     "output_type": "stream",
     "text": [
      "p\n",
      "y\n",
      "t\n",
      "h\n",
      "o\n",
      "n\n"
     ]
    }
   ],
   "source": [
    "string = 'python'\n",
    "\n",
    "for c in string:\n",
    "    print(c)"
   ]
  },
  {
   "cell_type": "markdown",
   "id": "8e127652",
   "metadata": {},
   "source": [
    "A for loop can have an optional *else* block as well. The else part is executed when the loop terminates. "
   ]
  },
  {
   "cell_type": "code",
   "execution_count": null,
   "id": "732de2fe",
   "metadata": {},
   "outputs": [
    {
     "name": "stdout",
     "output_type": "stream",
     "text": [
      "p\n",
      "y\n",
      "t\n",
      "h\n",
      "o\n",
      "n\n",
      "terminated\n"
     ]
    }
   ],
   "source": [
    "string = 'python'\n",
    "\n",
    "for char in string:\n",
    "    print(char)\n",
    "else:\n",
    "    print('terminated')"
   ]
  },
  {
   "cell_type": "markdown",
   "id": "d6289c17",
   "metadata": {},
   "source": [
    "The *break* keyword can be used to stop a for loop. In such cases, the else part is ignored. Control of the program flows to the statement immediately after the body of the loop. If the break statement is inside a nested loop (loop inside another loop), the break statement will terminate the innermost loop."
   ]
  },
  {
   "cell_type": "code",
   "execution_count": null,
   "id": "51635b32",
   "metadata": {},
   "outputs": [
    {
     "name": "stdout",
     "output_type": "stream",
     "text": [
      "p\n",
      "y\n",
      "t\n"
     ]
    }
   ],
   "source": [
    "string = 'python'\n",
    "\n",
    "for char in string:\n",
    "    if char == 'h':\n",
    "        break\n",
    "    print(char)\n",
    "else:\n",
    "    print('for terminated')"
   ]
  },
  {
   "cell_type": "markdown",
   "id": "a666fdf3",
   "metadata": {},
   "source": [
    "The *continue* statement is used to skip the rest of the code inside a loop for the current iteration only. Loop does not terminate but continues on with the next iteration."
   ]
  },
  {
   "cell_type": "code",
   "execution_count": null,
   "id": "164b2597",
   "metadata": {},
   "outputs": [
    {
     "name": "stdout",
     "output_type": "stream",
     "text": [
      "p\n",
      "y\n",
      "t\n",
      "o\n",
      "n\n",
      "for terminated\n"
     ]
    }
   ],
   "source": [
    "string = 'python'\n",
    "\n",
    "for char in string:\n",
    "    if char == 'h':\n",
    "        continue\n",
    "    print(char)\n",
    "else:\n",
    "    print('for terminated')"
   ]
  },
  {
   "cell_type": "markdown",
   "id": "5184c306",
   "metadata": {},
   "source": [
    "## while loop\n",
    "The while loop is used to iterate  as long as the test expression (condition) is true.\n",
    "Generally used when the number of times to iterate is unknown beforehand."
   ]
  },
  {
   "cell_type": "code",
   "execution_count": null,
   "id": "ead2dc90",
   "metadata": {},
   "outputs": [
    {
     "name": "stdout",
     "output_type": "stream",
     "text": [
      "sum=55\n"
     ]
    }
   ],
   "source": [
    "i = 0\n",
    "n = 10\n",
    "sum = 0\n",
    "\n",
    "while i <= n:\n",
    "    sum = sum + i\n",
    "    i += 1 \n",
    "    \n",
    "print(f'sum={sum}')"
   ]
  },
  {
   "cell_type": "markdown",
   "id": "1281e752",
   "metadata": {},
   "source": [
    "While loops can also have an optional else block.\n",
    "The else part is executed when the loop terminates.\n",
    "The while loop can be terminated with a break statement. In such cases, the else part is ignored. "
   ]
  },
  {
   "cell_type": "code",
   "execution_count": null,
   "id": "a0a9caf4",
   "metadata": {},
   "outputs": [
    {
     "name": "stdout",
     "output_type": "stream",
     "text": [
      "sum=55\n"
     ]
    }
   ],
   "source": [
    "i = 0\n",
    "n = 10\n",
    "sum = 0\n",
    "\n",
    "while i <= n:\n",
    "    sum = sum + i\n",
    "    i += 1\n",
    "else:\n",
    "    print(f'sum={sum}')"
   ]
  },
  {
   "cell_type": "markdown",
   "id": "88f87313",
   "metadata": {},
   "source": [
    "## pass\n",
    "The pass statement is a null statement. The difference between a comment and a pass statement in Python is that while the interpreter ignores a comment entirely, pass is not ignored. However, nothing happens when the pass statement \n",
    "is executed. It results in no operation (NOP)."
   ]
  },
  {
   "cell_type": "code",
   "execution_count": null,
   "id": "7849d687",
   "metadata": {},
   "outputs": [],
   "source": [
    "for val in 'python':\n",
    "    pass\n",
    "\n",
    "def function(args):\n",
    "    pass\n",
    "\n",
    "class Example:\n",
    "    pass"
   ]
  },
  {
   "cell_type": "markdown",
   "id": "11204e88",
   "metadata": {},
   "source": [
    "# Functions"
   ]
  },
  {
   "cell_type": "markdown",
   "id": "e1661aae",
   "metadata": {},
   "source": [
    "## General Syntax\n",
    "Functions much improve code reuse. Functions, in fact, can be used an reused. A general function looks something like this:"
   ]
  },
  {
   "cell_type": "code",
   "execution_count": null,
   "id": "be47e71b",
   "metadata": {},
   "outputs": [],
   "source": [
    "def function_name(arg_1, arg_2):\n",
    "    pass\n",
    "\n",
    "function_name(2, 2.3)"
   ]
  },
  {
   "cell_type": "markdown",
   "id": "42746ba8",
   "metadata": {},
   "source": [
    "## Passing parameters\n",
    "*All parameters (arguments) in the Python language are passed by reference*. It means if you change what a parameter refers to within a function, the change also reflects back in the calling function. [Python Tutor](http://www.pythontutor.com/) could be of much help for understanding how these examples work."
   ]
  },
  {
   "cell_type": "code",
   "execution_count": null,
   "id": "6525596f",
   "metadata": {},
   "outputs": [
    {
     "name": "stdout",
     "output_type": "stream",
     "text": [
      "[1, 2, 3]\n",
      "[1, 2, 3, 4, 5, 6]\n"
     ]
    }
   ],
   "source": [
    "def change_list(numbers):\n",
    "    numbers.extend([4, 5, 6])\n",
    "    return\n",
    "\n",
    "numbers = [1, 2, 3]\n",
    "print(numbers)\n",
    "change_list(numbers)\n",
    "print(numbers)"
   ]
  },
  {
   "cell_type": "markdown",
   "id": "e0f049c7",
   "metadata": {},
   "source": [
    "An example where argument is being passed by reference and the reference is being overwritten inside the called function (i.e., the reference COPY is overwritten). The parameter numbers is local to the function. Changing numbers within the function does not affect the caller. "
   ]
  },
  {
   "cell_type": "code",
   "execution_count": null,
   "id": "04b05393",
   "metadata": {},
   "outputs": [
    {
     "name": "stdout",
     "output_type": "stream",
     "text": [
      "[1, 2, 3]\n",
      "[1, 2, 3]\n"
     ]
    }
   ],
   "source": [
    "def change_list(numbers):\n",
    "    numbers = [4, 5, 6]\n",
    "    return\n",
    "\n",
    "numbers = [1, 2, 3]\n",
    "print(numbers)\n",
    "change_list(numbers)\n",
    "print(numbers)"
   ]
  },
  {
   "cell_type": "markdown",
   "id": "dd332f1c",
   "metadata": {},
   "source": [
    "## Default Arguments\n",
    "Function arguments can have default values. We can provide a default value to an argument by using the assignment operator (=). Any number of arguments in a function can have a default value. Once we have a default argument, all the arguments to its right must also have default values."
   ]
  },
  {
   "cell_type": "code",
   "execution_count": null,
   "id": "eaccb879",
   "metadata": {},
   "outputs": [
    {
     "name": "stdout",
     "output_type": "stream",
     "text": [
      "Hello Bruce, How are you doing?\n",
      "Hello Kate, Good morning!\n"
     ]
    }
   ],
   "source": [
    "def greet(name, msg='Good morning!'):\n",
    "    print(f'Hello {name}, {msg}')\n",
    "\n",
    "greet('Bruce', 'How are you doing?')\n",
    "greet('Kate')"
   ]
  },
  {
   "cell_type": "markdown",
   "id": "ecceafce",
   "metadata": {},
   "source": [
    "## Keyword Arguments\n",
    "Python allows functions to be called using keyword arguments. When we call functions in this way, the order (position) of the arguments can be changed. We can mix positional arguments with keyword arguments during a function call. We must keep in mind that *keyword arguments must follow positional arguments*."
   ]
  },
  {
   "cell_type": "code",
   "execution_count": null,
   "id": "c3225fa9",
   "metadata": {},
   "outputs": [
    {
     "name": "stdout",
     "output_type": "stream",
     "text": [
      "Hello Bruce, How do you do?\n",
      "Hello Bruce, How do you do?\n",
      "Hello Bruce, How do you do?\n"
     ]
    }
   ],
   "source": [
    "# 2 keyword arguments (in order)\n",
    "greet(name = 'Bruce', msg = 'How do you do?')\n",
    "\n",
    "# 2 keyword arguments (out of order)\n",
    "greet(msg = 'How do you do?', name = 'Bruce') \n",
    "\n",
    "# 1 positional, 1 keyword argument\n",
    "greet('Bruce', msg = 'How do you do?') \n",
    "\n",
    "# greet(name='Bruce', 'How do you do?')\n",
    "# SyntaxError: positional argument follows keyword argument"
   ]
  },
  {
   "cell_type": "code",
   "execution_count": null,
   "id": "77a0d879",
   "metadata": {},
   "outputs": [
    {
     "name": "stdout",
     "output_type": "stream",
     "text": [
      "[1, 2, 3] lines=None, chart_type=None, borders=None, shadows=None\n",
      "[1, 2, 3] lines=3, chart_type=None, borders=None, shadows=None\n",
      "[1, 2, 3] lines=3, chart_type=None, borders=None, shadows=4\n",
      "[1, 2, 3] lines=2, chart_type=None, borders=None, shadows=4\n"
     ]
    }
   ],
   "source": [
    "def generate_chart(data, lines=None, chart_type=None, borders=None, shadows=None):\n",
    "    print('{} lines={}, chart_type={}, borders={}, shadows={}'.format(\n",
    "        data, lines, chart_type, borders, shadows))\n",
    "    \n",
    "generate_chart([1,2,3])\n",
    "generate_chart([1,2,3], lines=3)\n",
    "generate_chart([1,2,3], lines=3, shadows=4)\n",
    "generate_chart([1,2,3], shadows=4, lines=2)"
   ]
  },
  {
   "cell_type": "markdown",
   "id": "92e2fe3c",
   "metadata": {},
   "source": [
    "## Lambda expressions\n",
    "\n",
    "Small anonymous functions can be created with the *lambda* keyword. Lambda functions can be used wherever function objects are required. They are syntactically restricted to a single expression. Semantically, they are just syntactic sugar for a normal function definition. "
   ]
  },
  {
   "cell_type": "code",
   "execution_count": null,
   "id": "cff4ad85",
   "metadata": {},
   "outputs": [
    {
     "name": "stdout",
     "output_type": "stream",
     "text": [
      "1 1.0\n",
      "2 1.4142135623730951\n",
      "3 1.7320508075688772\n",
      "1 1.0\n",
      "2 1.4142135623730951\n",
      "3 1.7320508075688772\n"
     ]
    }
   ],
   "source": [
    "import math\n",
    "\n",
    "def sqrt(x):\n",
    "    return math.sqrt(x)\n",
    "\n",
    "def log(x):\n",
    "    return math.log(x)\n",
    "\n",
    "def process(items, function):\n",
    "    for item in items:\n",
    "        print(item, function(item))\n",
    "    \n",
    "process([1,2,3], sqrt)\n",
    "process([1,2,3], lambda x : math.sqrt(x))"
   ]
  },
  {
   "cell_type": "code",
   "execution_count": null,
   "id": "b9c37a5a",
   "metadata": {},
   "outputs": [
    {
     "data": {
      "text/plain": [
       "3"
      ]
     },
     "metadata": {},
     "output_type": "display_data"
    }
   ],
   "source": [
    "# one argument\n",
    "f = lambda x: x + 1\n",
    "f(2)"
   ]
  },
  {
   "cell_type": "code",
   "execution_count": null,
   "id": "a051d334",
   "metadata": {},
   "outputs": [
    {
     "data": {
      "text/plain": [
       "5"
      ]
     },
     "metadata": {},
     "output_type": "display_data"
    }
   ],
   "source": [
    "# two arguments\n",
    "f = lambda x, y: x + y\n",
    "f(2, 3)"
   ]
  },
  {
   "cell_type": "code",
   "execution_count": null,
   "id": "dfd7e30b",
   "metadata": {},
   "outputs": [
    {
     "data": {
      "text/plain": [
       "5"
      ]
     },
     "metadata": {},
     "output_type": "display_data"
    }
   ],
   "source": [
    "# direct call\n",
    "(lambda x, y: x + y)(2, 3)"
   ]
  },
  {
   "cell_type": "code",
   "execution_count": null,
   "id": "42c63def",
   "metadata": {},
   "outputs": [
    {
     "data": {
      "text/plain": [
       "'Full name: Anna Pannocchia'"
      ]
     },
     "metadata": {},
     "output_type": "display_data"
    }
   ],
   "source": [
    "f = lambda first, last: 'Full name: {} {}'.format(first.title(), last.title())\n",
    "f('anna', 'pannocchia')"
   ]
  },
  {
   "cell_type": "code",
   "execution_count": null,
   "id": "380689bc",
   "metadata": {},
   "outputs": [
    {
     "name": "stdout",
     "output_type": "stream",
     "text": [
      "[(1, 'one'), (2, 'two'), (3, 'three'), (4, 'four')]\n",
      "[(4, 'four'), (1, 'one'), (3, 'three'), (2, 'two')]\n"
     ]
    }
   ],
   "source": [
    "pairs = [(1, 'one'), (2, 'two'), (3, 'three'), (4, 'four')]\n",
    "pairs.sort(key=lambda pair: pair[0])\n",
    "print(pairs)\n",
    "pairs.sort(key=lambda pair: pair[1])\n",
    "print(pairs)"
   ]
  },
  {
   "cell_type": "markdown",
   "id": "4ba13d0a",
   "metadata": {},
   "source": [
    "## Returning multiple values\n",
    "Python allows various ways for returning multiple values."
   ]
  },
  {
   "cell_type": "code",
   "execution_count": null,
   "id": "c6d64c96",
   "metadata": {},
   "outputs": [
    {
     "data": {
      "text/plain": [
       "(5, 9, -4)"
      ]
     },
     "metadata": {},
     "output_type": "display_data"
    }
   ],
   "source": [
    "# using a tuple\n",
    "def g(x):\n",
    "    y0 = x + 2\n",
    "    y1 = x * 3\n",
    "    y2 = y0 - y1\n",
    "    return (y0, y1, y2)\n",
    "\n",
    "g(3)"
   ]
  },
  {
   "cell_type": "code",
   "execution_count": null,
   "id": "9822bd98",
   "metadata": {},
   "outputs": [
    {
     "data": {
      "text/plain": [
       "{'y0': 5, 'y1': 9, 'y2': -4}"
      ]
     },
     "metadata": {},
     "output_type": "display_data"
    }
   ],
   "source": [
    "# using a dictonary\n",
    "def g(x):\n",
    "    y0 = x + 2\n",
    "    y1 = x * 3\n",
    "    y2 = y0 - y1\n",
    "    return {'y0': y0, 'y1': y1 ,'y2': y2}\n",
    "\n",
    "g(3)"
   ]
  }
 ],
 "metadata": {
  "language_info": {
   "name": "python"
  }
 },
 "nbformat": 4,
 "nbformat_minor": 5
}
